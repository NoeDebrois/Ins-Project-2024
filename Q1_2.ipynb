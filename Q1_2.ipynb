{
 "cells": [
  {
   "cell_type": "code",
   "execution_count": 2590,
   "metadata": {},
   "outputs": [],
   "source": [
    "import numpy as np\n",
    "import matplotlib.pyplot as plt\n",
    "import pandas as pd"
   ]
  },
  {
   "cell_type": "code",
   "execution_count": 2591,
   "metadata": {},
   "outputs": [],
   "source": [
    "# Simulation :\n",
    "m_MC = 100 # Number of simulations\n",
    "T = 50 # Time horizon in years\n",
    "N = 50 # Number of time steps (daily frequency)\n",
    "dt = T / N # Time step\n",
    "initial_population = 10000  # Initial population size (number of contracts at t=0)\n",
    "\n",
    "\n",
    "# Fund / Premium :\n",
    "F0 = 100000 # Initial value of the fund / Premium Invested\n",
    "sigma_equity = 0.20 # Volatility for equity\n",
    "sigma_property = 0.10 # Volatility for property\n",
    "PR_weight = 0.2 # Weight of PR in the portfolio\n",
    "EQ_weight = 0.8 # Weight of EQ in the portfolio\n",
    "\n",
    "# Liabilities :\n",
    "rd_rate = 0.022\n",
    "comm = 0.014\n",
    "inflation_rate = 0.02\n",
    "lapse_rate = 0.15  # Annual lapse rate\n",
    "cst_cost = 50 # Constant unitary cost"
   ]
  },
  {
   "cell_type": "code",
   "execution_count": null,
   "metadata": {},
   "outputs": [],
   "source": [
    "def simulate_gbm_vec(F0, r, sigma, dt, N, z):\n",
    "    # Generate N samples from a GBM with risk-free rate r and volatility sigma\n",
    "    # r and sigma are assumed to be annualized\n",
    "    # dt is the time step\n",
    "    # S0 is the initial value of the process\n",
    "    S = np.zeros((m_MC, N))\n",
    "    S[:, 0] = np.full(m_MC, F0)\n",
    "    for t in range(1, N):\n",
    "        # Update the stock price for all iterations simultaneously\n",
    "        S[:, t] = S[:, t - 1] * np.exp((r[t] - 0.5 * sigma**2) * dt + sigma * np.sqrt(dt) * z[:, t])\n",
    "    return S"
   ]
  },
  {
   "cell_type": "markdown",
   "metadata": {},
   "source": [
    "## LIABILITIES :"
   ]
  },
  {
   "cell_type": "code",
   "execution_count": null,
   "metadata": {},
   "outputs": [],
   "source": [
    "import LapseQ1 as LQ1\n",
    "import DeathQ1 as DQ1\n",
    "import COMMQ1 as CQ1\n",
    "import ExpensesQ1 as EQ1\n",
    "import MASSQ1 as MQ1"
   ]
  },
  {
   "cell_type": "markdown",
   "metadata": {},
   "source": [
    "### No stress :"
   ]
  },
  {
   "cell_type": "code",
   "execution_count": null,
   "metadata": {},
   "outputs": [],
   "source": [
    "def Base_Case(N, F0, sigma_equity, sigma_property, dt, m_MC, EQ_weight, PR_weight, lapse_rate, rd_rate, COMM, cst_cost, inflation_rate):\n",
    "    \"\"\"\n",
    "    Generation of the random standard-normal vector :\n",
    "    \"\"\"\n",
    "    # Generate m_MC samples of random normal variables\n",
    "    z = np.random.normal(size=(m_MC, N))\n",
    "\n",
    "    \"\"\"\n",
    "    Expenses :\n",
    "    \"\"\"\n",
    "    # Generate the 50€ vector following the inflation :\n",
    "    Expenses = np.zeros(N)\n",
    "    Expenses[1:] = [cst_cost * (1 + inflation_rate) ** i for i in range(1,N)]\n",
    "    \n",
    "    \"\"\"\n",
    "    RFR :\n",
    "    \"\"\"\n",
    "    # Read Excel file\n",
    "    df = pd.read_excel('EIOPA_RFR_20240331_Term_Structures.xlsx', \"RFR_spot_no_VA\", usecols=\"C\", )\n",
    "    df = df[9:]\n",
    "    df = df.rename(columns={'Unnamed: 18': 'EIOPA EU without VA, MAR'})\n",
    "    rt = np.array(df).T\n",
    "    rt = np.array(rt, np.float64)\n",
    "    rt = rt[0, :N] # Time-varying risk-free rate\n",
    "\n",
    "    \"\"\"\n",
    "    Simulation of the fund :\n",
    "    \"\"\"\n",
    "    # Simulate equity and property paths\n",
    "    EQt = simulate_gbm_vec(F0, rt, sigma_equity, dt, N, z)\n",
    "    PRt = simulate_gbm_vec(F0, rt, sigma_property, dt, N, z)\n",
    "    # Calculate the fund value at each time step\n",
    "    fund_value = EQ_weight * EQt + PR_weight * PRt\n",
    "    F = np.squeeze(fund_value)\n",
    "\n",
    "    print(str(np.quantile(F, 0.995)))\n",
    "\n",
    "    \"\"\"\n",
    "    Compute the discount factors :\n",
    "    \"\"\"\n",
    "    EIOPA_yield_curve = pd.DataFrame()\n",
    "    EIOPA_yield_curve['Years'] = np.arange(0, 51, 1)\n",
    "    EIOPA_yield_curve['EIOPA EU without VA, MARCH 2024'] = np.insert(rt, 0, 0)  # EIOPA RFR spot rate no VA, with 0 at year = 0 so that discount = 1\n",
    "    EIOPA_yield_curve['Discount Factors'] = 1 / (1 + EIOPA_yield_curve['EIOPA EU without VA, MARCH 2024']) ** EIOPA_yield_curve['Years']\n",
    "\n",
    "    \"\"\"\n",
    "    Life table :\n",
    "    \"\"\"\n",
    "    df_LT = pd.read_excel(\"LT_M_only.xlsx\", skiprows=[0], index_col=0)\n",
    "    Life_table = pd.DataFrame()\n",
    "    Life_table['Age'] = np.arange(60, 120, 1)\n",
    "    Life_table['Death probability qx'] = np.array(df_LT['Probability of death (per thousand)  qx'][60:120]) / 1000\n",
    "    Life_table['Cumulative survival probability px'] = (1 - Life_table['Death probability qx']).cumprod()\n",
    "    \n",
    "    \"\"\"\n",
    "    Get the needed data :\n",
    "    \"\"\"\n",
    "    px_cumul = Life_table[\"Cumulative survival probability px\"][:50]\n",
    "    discount_factors = EIOPA_yield_curve[\"Discount Factors\"][:-1]\n",
    "    qx = Life_table[\"Death probability qx\"]\n",
    "\n",
    "    \"\"\"\n",
    "    Compute the BEL :\n",
    "    \"\"\"\n",
    "    MC_liab = LQ1.MC_lapse_liabilities_VaR(m_MC, F, discount_factors, px_cumul, lapse_rate, rd_rate)\n",
    "    d_MC_liab = DQ1.MC_death_liabilities_VaR(m_MC, F, discount_factors, px_cumul, lapse_rate, rd_rate, qx)\n",
    "    L_n_D_COMM_liab = CQ1.L_and_D_COMM_Liabilities_VaR(m_MC, COMM, N, lapse_rate, px_cumul, discount_factors, qx, F)\n",
    "    Exp_liab = EQ1.Expenses_liabilities(Expenses, discount_factors, lapse_rate, px_cumul, N).sum()\n",
    "    Exp_liab = np.full_like(MC_liab, Exp_liab)\n",
    "\n",
    "    \"\"\"\n",
    "    Compute the total liabilities :\n",
    "    \"\"\"\n",
    "    BEL = MC_liab + d_MC_liab + L_n_D_COMM_liab + Exp_liab\n",
    "\n",
    "    \"\"\"\n",
    "    Compute the BOF under IR up stress :\n",
    "    \"\"\"\n",
    "    MVA = F[0][0]\n",
    "    BOF = MVA - BEL\n",
    "\n",
    "    \"\"\"\n",
    "    Compute the Delta_BOF under IR up stress :\n",
    "    \"\"\"\n",
    "    D_BOF = BOF - BOF\n",
    "\n",
    "    \"\"\"\n",
    "    Compute the SCR under IR up stress using VaR(99.5%) :\n",
    "    \"\"\"\n",
    "    SCR = np.maximum(0, D_BOF)\n",
    "    SCR = np.quantile(SCR, 0.995) # VaR at 99.5%\n",
    "    return MVA, BEL, BOF, D_BOF, SCR, z"
   ]
  },
  {
   "cell_type": "code",
   "execution_count": null,
   "metadata": {},
   "outputs": [
    {
     "name": "stdout",
     "output_type": "stream",
     "text": [
      "1645293.5664110975\n"
     ]
    }
   ],
   "source": [
    "MVA_base, BEL_base, base_BOF, D_BOF_base, SCR_base, z = Base_Case(N, F0, sigma_equity, sigma_property, dt, m_MC, EQ_weight, PR_weight, lapse_rate, rd_rate, comm, cst_cost, inflation_rate)"
   ]
  },
  {
   "cell_type": "code",
   "execution_count": null,
   "metadata": {},
   "outputs": [
    {
     "data": {
      "text/plain": [
       "(100, 50)"
      ]
     },
     "execution_count": 2531,
     "metadata": {},
     "output_type": "execute_result"
    }
   ],
   "source": [
    "z.shape # test de la dimension"
   ]
  },
  {
   "cell_type": "code",
   "execution_count": null,
   "metadata": {},
   "outputs": [
    {
     "data": {
      "text/plain": [
       "(0.936346848387398, -0.18501801872054927)"
      ]
     },
     "execution_count": 2532,
     "metadata": {},
     "output_type": "execute_result"
    }
   ],
   "source": [
    "z[6].std(), z[69].mean() # test que c'est bien normal 0-1"
   ]
  },
  {
   "cell_type": "markdown",
   "metadata": {},
   "source": [
    "### IR up :"
   ]
  },
  {
   "cell_type": "code",
   "execution_count": null,
   "metadata": {},
   "outputs": [],
   "source": [
    "def IR_up_Case(z, base_BOF, N, F0, sigma_equity, sigma_property, dt, m_MC, EQ_weight, PR_weight, lapse_rate, rd_rate, COMM, cst_cost, inflation_rate):\n",
    "    \"\"\"\n",
    "    Expenses :\n",
    "    \"\"\"\n",
    "    # Generate the 50€ vector following the inflation :\n",
    "    Expenses = np.zeros(N)\n",
    "    Expenses[1:] = [cst_cost * (1 + inflation_rate) ** i for i in range(1,N)]\n",
    "    \n",
    "    \"\"\"\n",
    "    RFR :\n",
    "    \"\"\"\n",
    "    # Read Excel file\n",
    "    df_up = pd.read_excel('EIOPA_RFR_20240331_Term_Structures.xlsx', \"Spot_NO_VA_shock_UP\", usecols=\"C\", )\n",
    "    df_up = df_up[9:]\n",
    "    df_up = df_up.rename(columns={'Unnamed: 2': 'EIOPA EU without VA, MAR'})\n",
    "    rt_up = np.array(df_up).T\n",
    "    rt_up = np.array(rt_up, np.float64)\n",
    "    rt_up = rt_up[0, :N] # Time-varying risk-free rate\n",
    "\n",
    "    \"\"\"\n",
    "    Simulation of the fund :\n",
    "    \"\"\"\n",
    "    # Simulate equity and property paths\n",
    "    EQt_rt_up = simulate_gbm_vec(F0, rt_up, sigma_equity, dt, N, z)\n",
    "    PRt_rt_up = simulate_gbm_vec(F0, rt_up, sigma_property, dt, N, z)\n",
    "    # Calculate the fund value at each time step\n",
    "    fund_value_rt_up = EQ_weight * EQt_rt_up + PR_weight * PRt_rt_up\n",
    "    F_rt_up = np.squeeze(fund_value_rt_up)\n",
    "\n",
    "    print(str(np.quantile(F_rt_up, 0.995)))\n",
    "\n",
    "    \"\"\"\n",
    "    Compute the discount factors :\n",
    "    \"\"\"\n",
    "    EIOPA_yield_curve = pd.DataFrame()\n",
    "    EIOPA_yield_curve['Years'] = np.arange(0, 51, 1)\n",
    "    EIOPA_yield_curve['EIOPA EU without VA, MARCH 2024'] = np.insert(rt_up, 0, 0)  # EIOPA RFR spot rate no VA, with 0 at year = 0 so that discount = 1\n",
    "    EIOPA_yield_curve['Discount Factors'] = 1 / (1 + EIOPA_yield_curve['EIOPA EU without VA, MARCH 2024']) ** EIOPA_yield_curve['Years']\n",
    "\n",
    "    \"\"\"\n",
    "    Life table :\n",
    "    \"\"\"\n",
    "    df_LT = pd.read_excel(\"LT_M_only.xlsx\", skiprows=[0], index_col=0)\n",
    "    Life_table = pd.DataFrame()\n",
    "    Life_table['Age'] = np.arange(60, 120, 1)\n",
    "    Life_table['Death probability qx'] = np.array(df_LT['Probability of death (per thousand)  qx'][60:120]) / 1000\n",
    "    Life_table['Cumulative survival probability px'] = (1 - Life_table['Death probability qx']).cumprod()\n",
    "    \n",
    "    \"\"\"\n",
    "    Get the needed data :\n",
    "    \"\"\"\n",
    "    px_cumul = Life_table[\"Cumulative survival probability px\"][:50]\n",
    "    discount_factors_up = EIOPA_yield_curve[\"Discount Factors\"][:-1]\n",
    "    qx = Life_table[\"Death probability qx\"]\n",
    "\n",
    "    \"\"\"\n",
    "    Compute the BEL :\n",
    "    \"\"\"\n",
    "    MC_liab = LQ1.MC_lapse_liabilities_VaR(m_MC, F_rt_up, discount_factors_up, px_cumul, lapse_rate, rd_rate)\n",
    "    d_MC_liab = DQ1.MC_death_liabilities_VaR(m_MC, F_rt_up, discount_factors_up, px_cumul, lapse_rate, rd_rate, qx)\n",
    "    L_n_D_COMM_liab = CQ1.L_and_D_COMM_Liabilities_VaR(m_MC, COMM, N, lapse_rate, px_cumul, discount_factors_up, qx, F_rt_up)\n",
    "    Exp_liab = EQ1.Expenses_liabilities(Expenses, discount_factors_up, lapse_rate, px_cumul, N).sum()\n",
    "    Exp_liab = np.full_like(MC_liab, Exp_liab)\n",
    "\n",
    "    \"\"\"\n",
    "    Compute the total liabilities :\n",
    "    \"\"\"\n",
    "    BEL = MC_liab + d_MC_liab + L_n_D_COMM_liab + Exp_liab\n",
    "\n",
    "    \"\"\"\n",
    "    Compute the BOF under IR up stress :\n",
    "    \"\"\"\n",
    "    MVA = F_rt_up[0][0]\n",
    "    BOF = MVA - BEL\n",
    "\n",
    "    \"\"\"\n",
    "    Compute the Delta_BOF under IR up stress :\n",
    "    \"\"\"\n",
    "    D_BOF = base_BOF - BOF\n",
    "\n",
    "    \"\"\"\n",
    "    Compute the SCR under IR up stress using VaR(99.5%) :\n",
    "    \"\"\"\n",
    "    SCR = np.maximum(0, D_BOF)\n",
    "    SCR = np.quantile(SCR, 0.995) # VaR at 99.5%\n",
    "    return MVA, BEL, BOF, D_BOF, SCR, z"
   ]
  },
  {
   "cell_type": "code",
   "execution_count": null,
   "metadata": {},
   "outputs": [
    {
     "name": "stdout",
     "output_type": "stream",
     "text": [
      "2691321.9943248094\n"
     ]
    }
   ],
   "source": [
    "MVA_IR_UP, BEL_IR_UP, BOF_IR_UP, D_BOF_IR_UP, SCR_IR_UP, z = IR_up_Case(z, base_BOF, N, F0, sigma_equity, sigma_property, dt, m_MC, EQ_weight, PR_weight, lapse_rate, rd_rate, comm, cst_cost, inflation_rate)"
   ]
  },
  {
   "cell_type": "code",
   "execution_count": null,
   "metadata": {},
   "outputs": [
    {
     "data": {
      "text/plain": [
       "4494.540020748217"
      ]
     },
     "execution_count": 2535,
     "metadata": {},
     "output_type": "execute_result"
    }
   ],
   "source": [
    "SCR_IR_UP"
   ]
  },
  {
   "cell_type": "code",
   "execution_count": null,
   "metadata": {},
   "outputs": [
    {
     "data": {
      "text/plain": [
       "array([[-0.937688  , -0.13325063,  0.56075113,  1.09183558],\n",
       "       [-1.11903364,  0.52796562, -0.38856872, -1.10669069],\n",
       "       [-0.54131701, -0.26502916, -0.40202849,  1.00118017],\n",
       "       [ 1.06701496, -0.43967802,  1.03749531,  1.40226271]])"
      ]
     },
     "execution_count": 2536,
     "metadata": {},
     "output_type": "execute_result"
    }
   ],
   "source": [
    "z[:4, :4]"
   ]
  },
  {
   "cell_type": "markdown",
   "metadata": {},
   "source": [
    "### IR dw :"
   ]
  },
  {
   "cell_type": "code",
   "execution_count": null,
   "metadata": {},
   "outputs": [],
   "source": [
    "def IR_dw_Case(z, base_BOF, N, F0, sigma_equity, sigma_property, dt, m_MC, EQ_weight, PR_weight, lapse_rate, rd_rate, COMM, cst_cost, inflation_rate):\n",
    "    \"\"\"\n",
    "    Expenses :\n",
    "    \"\"\"\n",
    "    # Generate the 50€ vector following the inflation :\n",
    "    Expenses = np.zeros(N)\n",
    "    Expenses[1:] = [cst_cost * (1 + inflation_rate) ** i for i in range(1,N)]\n",
    "    \n",
    "    \"\"\"\n",
    "    RFR :\n",
    "    \"\"\"\n",
    "    # Read Excel file\n",
    "    df = pd.read_excel('EIOPA_RFR_20240331_Term_Structures.xlsx', \"Spot_NO_VA_shock_DOWN\", usecols=\"C\", )\n",
    "    df = df[9:]\n",
    "    df = df.rename(columns={'Unnamed: 2': 'EIOPA EU without VA, MAR'})\n",
    "    rt_down = np.array(df).T\n",
    "    rt_down = np.array(rt_down, np.float64)\n",
    "    rt_down = rt_down[0, :N] # Time-varying risk-free rate\n",
    "\n",
    "    \"\"\"\n",
    "    Simulation of the fund :\n",
    "    \"\"\"\n",
    "    # Simulate equity and property paths\n",
    "    EQt_rt_down = simulate_gbm_vec(F0, rt_down, sigma_equity, dt, N, z)\n",
    "    PRt_rt_down = simulate_gbm_vec(F0, rt_down, sigma_property, dt, N, z)\n",
    "    # Calculate the fund value at each time step\n",
    "    fund_value_rt_down = EQ_weight * EQt_rt_down + PR_weight * PRt_rt_down\n",
    "    F_rt_down = np.squeeze(fund_value_rt_down)\n",
    "\n",
    "    print(str(np.quantile(F_rt_down, 0.995)))\n",
    "\n",
    "    \"\"\"\n",
    "    Compute the discount factors :\n",
    "    \"\"\"\n",
    "    EIOPA_yield_curve = pd.DataFrame()\n",
    "    EIOPA_yield_curve['Years'] = np.arange(0, 51, 1)\n",
    "    EIOPA_yield_curve['EIOPA EU without VA, MARCH 2024'] = np.insert(rt_down, 0, 0)  # EIOPA RFR spot rate no VA, with 0 at year = 0 so that discount = 1\n",
    "    EIOPA_yield_curve['Discount Factors'] = 1 / (1 + EIOPA_yield_curve['EIOPA EU without VA, MARCH 2024']) ** EIOPA_yield_curve['Years']\n",
    "\n",
    "    \"\"\"\n",
    "    Life table :\n",
    "    \"\"\"\n",
    "    df_LT = pd.read_excel(\"LT_M_only.xlsx\", skiprows=[0], index_col=0)\n",
    "    Life_table = pd.DataFrame()\n",
    "    Life_table['Age'] = np.arange(60, 120, 1)\n",
    "    Life_table['Death probability qx'] = np.array(df_LT['Probability of death (per thousand)  qx'][60:120]) / 1000\n",
    "    Life_table['Cumulative survival probability px'] = (1 - Life_table['Death probability qx']).cumprod()\n",
    "    \n",
    "    \"\"\"\n",
    "    Get the needed data :\n",
    "    \"\"\"\n",
    "    px_cumul = Life_table[\"Cumulative survival probability px\"][:50]\n",
    "    discount_factors_dw = EIOPA_yield_curve[\"Discount Factors\"][:-1]\n",
    "    qx = Life_table[\"Death probability qx\"]\n",
    "\n",
    "    \"\"\"\n",
    "    Compute the BEL :\n",
    "    \"\"\"\n",
    "    MC_liab = LQ1.MC_lapse_liabilities_VaR(m_MC, F_rt_down, discount_factors_dw, px_cumul, lapse_rate, rd_rate)\n",
    "    d_MC_liab = DQ1.MC_death_liabilities_VaR(m_MC, F_rt_down, discount_factors_dw, px_cumul, lapse_rate, rd_rate, qx)\n",
    "    L_n_D_COMM_liab = CQ1.L_and_D_COMM_Liabilities_VaR(m_MC, COMM, N, lapse_rate, px_cumul, discount_factors_dw, qx, F_rt_down)\n",
    "    Exp_liab = EQ1.Expenses_liabilities(Expenses, discount_factors_dw, lapse_rate, px_cumul, N).sum()\n",
    "    Exp_liab = np.full_like(MC_liab, Exp_liab)\n",
    "\n",
    "    \"\"\"\n",
    "    Compute the total liabilities :\n",
    "    \"\"\"\n",
    "    BEL = MC_liab + d_MC_liab + L_n_D_COMM_liab + Exp_liab\n",
    "\n",
    "    \"\"\"\n",
    "    Compute the BOF under IR up stress :\n",
    "    \"\"\"\n",
    "    MVA = F_rt_down[0][0]\n",
    "    BOF = MVA - BEL\n",
    "\n",
    "    \"\"\"\n",
    "    Compute the Delta_BOF under IR up stress :\n",
    "    \"\"\"\n",
    "    D_BOF = base_BOF - BOF\n",
    "\n",
    "    \"\"\"\n",
    "    Compute the SCR under IR up stress using VaR(99.5%) :\n",
    "    \"\"\"\n",
    "    SCR = np.maximum(0, D_BOF)\n",
    "    SCR = np.quantile(SCR, 0.995) # VaR at 99.5%\n",
    "    return MVA, BEL, BOF, D_BOF, SCR, z"
   ]
  },
  {
   "cell_type": "code",
   "execution_count": null,
   "metadata": {},
   "outputs": [
    {
     "name": "stdout",
     "output_type": "stream",
     "text": [
      "1147515.706570742\n"
     ]
    }
   ],
   "source": [
    "MVA_IR_DW, BEL_IR_DW, BOF_IR_DW, D_BOF_IR_DW, SCR_IR_DW, z = IR_dw_Case(z, base_BOF, N, F0, sigma_equity, sigma_property, dt, m_MC, EQ_weight, PR_weight, lapse_rate, rd_rate, comm, cst_cost, inflation_rate)"
   ]
  },
  {
   "cell_type": "code",
   "execution_count": null,
   "metadata": {},
   "outputs": [
    {
     "data": {
      "text/plain": [
       "154.5013038488313"
      ]
     },
     "execution_count": 2539,
     "metadata": {},
     "output_type": "execute_result"
    }
   ],
   "source": [
    "SCR_IR_DW"
   ]
  },
  {
   "cell_type": "code",
   "execution_count": null,
   "metadata": {},
   "outputs": [
    {
     "data": {
      "text/plain": [
       "array([[-0.937688  , -0.13325063,  0.56075113,  1.09183558],\n",
       "       [-1.11903364,  0.52796562, -0.38856872, -1.10669069],\n",
       "       [-0.54131701, -0.26502916, -0.40202849,  1.00118017],\n",
       "       [ 1.06701496, -0.43967802,  1.03749531,  1.40226271]])"
      ]
     },
     "execution_count": 2540,
     "metadata": {},
     "output_type": "execute_result"
    }
   ],
   "source": [
    "z[:4, :4]"
   ]
  },
  {
   "cell_type": "markdown",
   "metadata": {},
   "source": [
    "Max between the two SCRs of the IR :"
   ]
  },
  {
   "cell_type": "code",
   "execution_count": null,
   "metadata": {},
   "outputs": [
    {
     "data": {
      "text/plain": [
       "4494.540020748217"
      ]
     },
     "execution_count": 2541,
     "metadata": {},
     "output_type": "execute_result"
    }
   ],
   "source": [
    "SCR_IR = max(SCR_IR_DW, SCR_IR_UP)\n",
    "SCR_IR"
   ]
  },
  {
   "cell_type": "markdown",
   "metadata": {},
   "source": [
    "### EQ :"
   ]
  },
  {
   "cell_type": "code",
   "execution_count": null,
   "metadata": {},
   "outputs": [],
   "source": [
    "def EQ_Case(z, base_BOF, N, F0, sigma_equity, sigma_property, dt, m_MC, EQ_weight, PR_weight, lapse_rate, rd_rate, COMM, cst_cost, inflation_rate):\n",
    "    \"\"\"\n",
    "    Expenses :\n",
    "    \"\"\"\n",
    "    # Generate the 50€ vector following the inflation :\n",
    "    Expenses = np.zeros(N)\n",
    "    Expenses[1:] = [cst_cost * (1 + inflation_rate) ** i for i in range(1,N)]\n",
    "    \n",
    "    \"\"\"\n",
    "    RFR :\n",
    "    \"\"\"\n",
    "    # Read Excel file\n",
    "    df = pd.read_excel('EIOPA_RFR_20240331_Term_Structures.xlsx', \"RFR_spot_no_VA\", usecols=\"C\", )\n",
    "    df = df[9:]\n",
    "    df = df.rename(columns={'Unnamed: 18': 'EIOPA EU without VA, MAR'})\n",
    "    rt = np.array(df).T\n",
    "    rt = np.array(rt, np.float64)\n",
    "    rt = rt[0, :N] # Time-varying risk-free rate\n",
    "\n",
    "    \"\"\"\n",
    "    Simulation of the fund :\n",
    "    \"\"\"\n",
    "    shock_rate_equity_down = 0.39\n",
    "    #Equity in down scenario :\n",
    "    EQt_down = simulate_gbm_vec(F0, rt, sigma_equity, dt, N, z)*(1-shock_rate_equity_down)\n",
    "    #Property :\n",
    "    PRt = simulate_gbm_vec(F0, rt, sigma_property, dt, N, z)\n",
    "    # Calculate the fund value at each time step\n",
    "    fund_value_eqt_down = EQ_weight * EQt_down + PR_weight * PRt\n",
    "    F_eqt_down = np.squeeze(fund_value_eqt_down)\n",
    "\n",
    "    print(str(np.quantile(F_eqt_down, 0.995)))\n",
    "\n",
    "    \"\"\"\n",
    "    Compute the discount factors :\n",
    "    \"\"\"\n",
    "    EIOPA_yield_curve = pd.DataFrame()\n",
    "    EIOPA_yield_curve['Years'] = np.arange(0, 51, 1)\n",
    "    EIOPA_yield_curve['EIOPA EU without VA, MARCH 2024'] = np.insert(rt, 0, 0)  # EIOPA RFR spot rate no VA, with 0 at year = 0 so that discount = 1\n",
    "    EIOPA_yield_curve['Discount Factors'] = 1 / (1 + EIOPA_yield_curve['EIOPA EU without VA, MARCH 2024']) ** EIOPA_yield_curve['Years']\n",
    "\n",
    "    \"\"\"\n",
    "    Life table :\n",
    "    \"\"\"\n",
    "    df_LT = pd.read_excel(\"LT_M_only.xlsx\", skiprows=[0], index_col=0)\n",
    "    Life_table = pd.DataFrame()\n",
    "    Life_table['Age'] = np.arange(60, 120, 1)\n",
    "    Life_table['Death probability qx'] = np.array(df_LT['Probability of death (per thousand)  qx'][60:120]) / 1000\n",
    "    Life_table['Cumulative survival probability px'] = (1 - Life_table['Death probability qx']).cumprod()\n",
    "    \n",
    "    \"\"\"\n",
    "    Get the needed data :\n",
    "    \"\"\"\n",
    "    px_cumul = Life_table[\"Cumulative survival probability px\"][:50]\n",
    "    discount_factors = EIOPA_yield_curve[\"Discount Factors\"][:-1]\n",
    "    qx = Life_table[\"Death probability qx\"]\n",
    "\n",
    "    \"\"\"\n",
    "    Compute the BEL :\n",
    "    \"\"\"\n",
    "    MC_liab = LQ1.MC_lapse_liabilities_VaR(m_MC, F_eqt_down, discount_factors, px_cumul, lapse_rate, rd_rate)\n",
    "    d_MC_liab = DQ1.MC_death_liabilities_VaR(m_MC, F_eqt_down, discount_factors, px_cumul, lapse_rate, rd_rate, qx)\n",
    "    L_n_D_COMM_liab = CQ1.L_and_D_COMM_Liabilities_VaR(m_MC, COMM, N, lapse_rate, px_cumul, discount_factors, qx, F_eqt_down)\n",
    "    Exp_liab = EQ1.Expenses_liabilities(Expenses, discount_factors, lapse_rate, px_cumul, N).sum()\n",
    "    Exp_liab = np.full_like(MC_liab, Exp_liab)\n",
    "\n",
    "    \"\"\"\n",
    "    Compute the total liabilities :\n",
    "    \"\"\"\n",
    "    BEL = MC_liab + d_MC_liab + L_n_D_COMM_liab + Exp_liab\n",
    "\n",
    "    \"\"\"\n",
    "    Compute the BOF under IR up stress :\n",
    "    \"\"\"\n",
    "    MVA = F_eqt_down[0][0]\n",
    "    BOF = MVA - BEL\n",
    "\n",
    "    \"\"\"\n",
    "    Compute the Delta_BOF under IR up stress :\n",
    "    \"\"\"\n",
    "    D_BOF = base_BOF - BOF\n",
    "\n",
    "    \"\"\"\n",
    "    Compute the SCR under IR up stress using VaR(99.5%) :\n",
    "    \"\"\"\n",
    "    SCR = np.maximum(0, D_BOF)\n",
    "    SCR = np.quantile(SCR, 0.995) # VaR at 99.5%\n",
    "    return MVA, BEL, BOF, D_BOF, SCR, z"
   ]
  },
  {
   "cell_type": "code",
   "execution_count": null,
   "metadata": {},
   "outputs": [
    {
     "name": "stdout",
     "output_type": "stream",
     "text": [
      "1081524.5755595358\n"
     ]
    }
   ],
   "source": [
    "MVA_EQ, BEL_EQ, BOF_EQ, D_BOF_EQ, SCR_EQ, z = EQ_Case(z, base_BOF, N, F0, sigma_equity, sigma_property, dt, m_MC, EQ_weight, PR_weight, lapse_rate, rd_rate, comm, cst_cost, inflation_rate)"
   ]
  },
  {
   "cell_type": "code",
   "execution_count": null,
   "metadata": {},
   "outputs": [
    {
     "data": {
      "text/plain": [
       "68800.0"
      ]
     },
     "execution_count": 2544,
     "metadata": {},
     "output_type": "execute_result"
    }
   ],
   "source": [
    "MVA_EQ"
   ]
  },
  {
   "cell_type": "code",
   "execution_count": null,
   "metadata": {},
   "outputs": [
    {
     "data": {
      "text/plain": [
       "15520.31476668948"
      ]
     },
     "execution_count": 2545,
     "metadata": {},
     "output_type": "execute_result"
    }
   ],
   "source": [
    "SCR_EQ"
   ]
  },
  {
   "cell_type": "code",
   "execution_count": null,
   "metadata": {},
   "outputs": [
    {
     "data": {
      "text/plain": [
       "array([[-0.937688  , -0.13325063,  0.56075113,  1.09183558],\n",
       "       [-1.11903364,  0.52796562, -0.38856872, -1.10669069],\n",
       "       [-0.54131701, -0.26502916, -0.40202849,  1.00118017],\n",
       "       [ 1.06701496, -0.43967802,  1.03749531,  1.40226271]])"
      ]
     },
     "execution_count": 2546,
     "metadata": {},
     "output_type": "execute_result"
    }
   ],
   "source": [
    "z[:4, :4]"
   ]
  },
  {
   "cell_type": "markdown",
   "metadata": {},
   "source": [
    "### PR :"
   ]
  },
  {
   "cell_type": "code",
   "execution_count": null,
   "metadata": {},
   "outputs": [],
   "source": [
    "def PR_Case(z, base_BOF, N, F0, sigma_equity, sigma_property, dt, m_MC, EQ_weight, PR_weight, lapse_rate, rd_rate, COMM, cst_cost, inflation_rate):\n",
    "    \"\"\"\n",
    "    Expenses :\n",
    "    \"\"\"\n",
    "    # Generate the 50€ vector following the inflation :\n",
    "    Expenses = np.zeros(N)\n",
    "    Expenses[1:] = [cst_cost * (1 + inflation_rate) ** i for i in range(1,N)]\n",
    "    \n",
    "    \"\"\"\n",
    "    RFR :\n",
    "    \"\"\"\n",
    "    # Read Excel file\n",
    "    df = pd.read_excel('EIOPA_RFR_20240331_Term_Structures.xlsx', \"RFR_spot_no_VA\", usecols=\"C\", )\n",
    "    df = df[9:]\n",
    "    df = df.rename(columns={'Unnamed: 18': 'EIOPA EU without VA, MAR'})\n",
    "    rt = np.array(df).T\n",
    "    rt = np.array(rt, np.float64)\n",
    "    rt = rt[0, :N] # Time-varying risk-free rate\n",
    "\n",
    "    \"\"\"\n",
    "    Simulation of the fund :\n",
    "    \"\"\"\n",
    "    shock_rate_property_down = 0.25\n",
    "    #Property in down scenario :\n",
    "    PRt_down = simulate_gbm_vec(F0, rt, sigma_property, dt, N, z)*(1-shock_rate_property_down)\n",
    "    #Equity :\n",
    "    EQt= simulate_gbm_vec(F0, rt, sigma_equity, dt, N, z)\n",
    "    # Calculate the fund value at each time step\n",
    "    fund_value_prt_down = EQ_weight * EQt + PR_weight * PRt_down\n",
    "    F_prt_down = np.squeeze(fund_value_prt_down)\n",
    "\n",
    "    print(str(np.quantile(F_prt_down, 0.995)))\n",
    "\n",
    "    \"\"\"\n",
    "    Compute the discount factors :\n",
    "    \"\"\"\n",
    "    EIOPA_yield_curve = pd.DataFrame()\n",
    "    EIOPA_yield_curve['Years'] = np.arange(0, 51, 1)\n",
    "    EIOPA_yield_curve['EIOPA EU without VA, MARCH 2024'] = np.insert(rt, 0, 0)  # EIOPA RFR spot rate no VA, with 0 at year = 0 so that discount = 1\n",
    "    EIOPA_yield_curve['Discount Factors'] = 1 / (1 + EIOPA_yield_curve['EIOPA EU without VA, MARCH 2024']) ** EIOPA_yield_curve['Years']\n",
    "\n",
    "    \"\"\"\n",
    "    Life table :\n",
    "    \"\"\"\n",
    "    df_LT = pd.read_excel(\"LT_M_only.xlsx\", skiprows=[0], index_col=0)\n",
    "    Life_table = pd.DataFrame()\n",
    "    Life_table['Age'] = np.arange(60, 120, 1)\n",
    "    Life_table['Death probability qx'] = np.array(df_LT['Probability of death (per thousand)  qx'][60:120]) / 1000\n",
    "    Life_table['Cumulative survival probability px'] = (1 - Life_table['Death probability qx']).cumprod()\n",
    "    \n",
    "    \"\"\"\n",
    "    Get the needed data :\n",
    "    \"\"\"\n",
    "    px_cumul = Life_table[\"Cumulative survival probability px\"][:50]\n",
    "    discount_factors = EIOPA_yield_curve[\"Discount Factors\"][:-1]\n",
    "    qx = Life_table[\"Death probability qx\"]\n",
    "\n",
    "    \"\"\"\n",
    "    Compute the BEL :\n",
    "    \"\"\"\n",
    "    MC_liab = LQ1.MC_lapse_liabilities_VaR(m_MC, F_prt_down, discount_factors, px_cumul, lapse_rate, rd_rate)\n",
    "    d_MC_liab = DQ1.MC_death_liabilities_VaR(m_MC, F_prt_down, discount_factors, px_cumul, lapse_rate, rd_rate, qx)\n",
    "    L_n_D_COMM_liab = CQ1.L_and_D_COMM_Liabilities_VaR(m_MC, COMM, N, lapse_rate, px_cumul, discount_factors, qx, F_prt_down)\n",
    "    Exp_liab = EQ1.Expenses_liabilities(Expenses, discount_factors, lapse_rate, px_cumul, N).sum()\n",
    "    Exp_liab = np.full_like(MC_liab, Exp_liab)\n",
    "\n",
    "    \"\"\"\n",
    "    Compute the total liabilities :\n",
    "    \"\"\"\n",
    "    BEL = MC_liab + d_MC_liab + L_n_D_COMM_liab + Exp_liab\n",
    "\n",
    "    \"\"\"\n",
    "    Compute the BOF under IR up stress :\n",
    "    \"\"\"\n",
    "    MVA = F_prt_down[0][0]\n",
    "    BOF = MVA - BEL\n",
    "\n",
    "    \"\"\"\n",
    "    Compute the Delta_BOF under IR up stress :\n",
    "    \"\"\"\n",
    "    D_BOF = base_BOF - BOF\n",
    "\n",
    "    \"\"\"\n",
    "    Compute the SCR under IR up stress using VaR(99.5%) :\n",
    "    \"\"\"\n",
    "    SCR = np.maximum(0, D_BOF)\n",
    "    SCR = np.quantile(SCR, 0.995) # VaR at 99.5%\n",
    "    return MVA, BEL, BOF, D_BOF, SCR, z"
   ]
  },
  {
   "cell_type": "code",
   "execution_count": null,
   "metadata": {},
   "outputs": [
    {
     "name": "stdout",
     "output_type": "stream",
     "text": [
      "1595360.5535593242\n"
     ]
    }
   ],
   "source": [
    "MVA_PR, BEL_PR, BOF_PR, D_BOF_PR, SCR_PR, z = PR_Case(z, base_BOF, N, F0, sigma_equity, sigma_property, dt, m_MC, EQ_weight, PR_weight, lapse_rate, rd_rate, comm, cst_cost, inflation_rate)"
   ]
  },
  {
   "cell_type": "code",
   "execution_count": null,
   "metadata": {},
   "outputs": [
    {
     "data": {
      "text/plain": [
       "95000.0"
      ]
     },
     "execution_count": 2549,
     "metadata": {},
     "output_type": "execute_result"
    }
   ],
   "source": [
    "MVA_PR"
   ]
  },
  {
   "cell_type": "code",
   "execution_count": null,
   "metadata": {},
   "outputs": [
    {
     "data": {
      "text/plain": [
       "1513.5312324464078"
      ]
     },
     "execution_count": 2550,
     "metadata": {},
     "output_type": "execute_result"
    }
   ],
   "source": [
    "SCR_PR"
   ]
  },
  {
   "cell_type": "code",
   "execution_count": null,
   "metadata": {},
   "outputs": [
    {
     "data": {
      "text/plain": [
       "array([[-0.937688  , -0.13325063,  0.56075113,  1.09183558],\n",
       "       [-1.11903364,  0.52796562, -0.38856872, -1.10669069],\n",
       "       [-0.54131701, -0.26502916, -0.40202849,  1.00118017],\n",
       "       [ 1.06701496, -0.43967802,  1.03749531,  1.40226271]])"
      ]
     },
     "execution_count": 2551,
     "metadata": {},
     "output_type": "execute_result"
    }
   ],
   "source": [
    "z[:4, :4]"
   ]
  },
  {
   "cell_type": "markdown",
   "metadata": {},
   "source": [
    "### Mortality :"
   ]
  },
  {
   "cell_type": "code",
   "execution_count": null,
   "metadata": {},
   "outputs": [],
   "source": [
    "def Mortality_Case(z, base_BOF, N, F0, sigma_equity, sigma_property, dt, m_MC, EQ_weight, PR_weight, lapse_rate, rd_rate, COMM, cst_cost, inflation_rate):\n",
    "    \"\"\"\n",
    "    Expenses :\n",
    "    \"\"\"\n",
    "    # Generate the 50€ vector following the inflation :\n",
    "    Expenses = np.zeros(N)\n",
    "    Expenses[1:] = [cst_cost * (1 + inflation_rate) ** i for i in range(1,N)]\n",
    "    \n",
    "    \"\"\"\n",
    "    RFR :\n",
    "    \"\"\"\n",
    "    # Read Excel file\n",
    "    df = pd.read_excel('EIOPA_RFR_20240331_Term_Structures.xlsx', \"RFR_spot_no_VA\", usecols=\"C\", )\n",
    "    df = df[9:]\n",
    "    df = df.rename(columns={'Unnamed: 18': 'EIOPA EU without VA, MAR'})\n",
    "    rt = np.array(df).T\n",
    "    rt = np.array(rt, np.float64)\n",
    "    rt = rt[0, :N] # Time-varying risk-free rate\n",
    "\n",
    "    \"\"\"\n",
    "    Simulation of the fund :\n",
    "    \"\"\"\n",
    "    # Simulate equity and property paths\n",
    "    EQ = simulate_gbm_vec(F0, rt, sigma_equity, dt, N, z)\n",
    "    PR = simulate_gbm_vec(F0, rt, sigma_property, dt, N, z)\n",
    "    # Calculate the fund value at each time step\n",
    "    fund_value = EQ_weight * EQ + PR_weight * PR\n",
    "    F = np.squeeze(fund_value)\n",
    "\n",
    "    print(str(F[0][0]))\n",
    "    print(str(np.quantile(F, 0.995)))\n",
    "\n",
    "    \"\"\"\n",
    "    Compute the discount factors :\n",
    "    \"\"\"\n",
    "    EIOPA_yield_curve = pd.DataFrame()\n",
    "    EIOPA_yield_curve['Years'] = np.arange(0, 51, 1)\n",
    "    EIOPA_yield_curve['EIOPA EU without VA, MARCH 2024'] = np.insert(rt, 0, 0)  # EIOPA RFR spot rate no VA, with 0 at year = 0 so that discount = 1\n",
    "    EIOPA_yield_curve['Discount Factors'] = 1 / (1 + EIOPA_yield_curve['EIOPA EU without VA, MARCH 2024']) ** EIOPA_yield_curve['Years']\n",
    "\n",
    "    \"\"\"\n",
    "    Life table :\n",
    "    \"\"\"\n",
    "    df_LT = pd.read_excel(\"LT_M_only.xlsx\", skiprows=[0], index_col=0)\n",
    "    Life_table = pd.DataFrame()\n",
    "    Life_table['Age'] = np.arange(60, 120, 1)\n",
    "    Life_table['Death probability qx'] = np.array(df_LT['Probability of death (per thousand)  qx'][60:120]) / 1000\n",
    "    Life_table['Death probability qx'] = Life_table['Death probability qx'] * 1.15 # Mortality shock \n",
    "    Life_table['Cumulative survival probability px'] = (1 - Life_table['Death probability qx']).cumprod()\n",
    "    \n",
    "    \"\"\"\n",
    "    Get the needed data :\n",
    "    \"\"\"\n",
    "    px_cumul = Life_table[\"Cumulative survival probability px\"][:50]\n",
    "    discount_factors_up = EIOPA_yield_curve[\"Discount Factors\"][:-1]\n",
    "    qx = Life_table[\"Death probability qx\"]\n",
    "\n",
    "    \"\"\"\n",
    "    Compute the BEL :\n",
    "    \"\"\"\n",
    "    MC_liab = LQ1.MC_lapse_liabilities_VaR(m_MC, F, discount_factors_up, px_cumul, lapse_rate, rd_rate)\n",
    "    d_MC_liab = DQ1.MC_death_liabilities_VaR(m_MC, F, discount_factors_up, px_cumul, lapse_rate, rd_rate, qx)\n",
    "    L_n_D_COMM_liab = CQ1.L_and_D_COMM_Liabilities_VaR(m_MC, COMM, N, lapse_rate, px_cumul, discount_factors_up, qx, F)\n",
    "    Exp_liab = EQ1.Expenses_liabilities(Expenses, discount_factors_up, lapse_rate, px_cumul, N).sum()\n",
    "    Exp_liab = np.full_like(MC_liab, Exp_liab)\n",
    "\n",
    "    \"\"\"\n",
    "    Compute the total liabilities :\n",
    "    \"\"\"\n",
    "    BEL = MC_liab + d_MC_liab + L_n_D_COMM_liab + Exp_liab\n",
    "\n",
    "    \"\"\"\n",
    "    Compute the BOF under IR up stress :\n",
    "    \"\"\"\n",
    "    MVA = F[0][0]\n",
    "    BOF = MVA - BEL\n",
    "\n",
    "    \"\"\"\n",
    "    Compute the Delta_BOF under IR up stress :\n",
    "    \"\"\"\n",
    "    D_BOF = base_BOF - BOF\n",
    "\n",
    "    \"\"\"\n",
    "    Compute the SCR under IR up stress using VaR(99.5%) :\n",
    "    \"\"\"\n",
    "    SCR = np.maximum(0, D_BOF)\n",
    "    SCR = np.quantile(SCR, 0.995) # VaR at 99.5%\n",
    "    return MVA, BEL, BOF, D_BOF, SCR, z"
   ]
  },
  {
   "cell_type": "code",
   "execution_count": null,
   "metadata": {},
   "outputs": [
    {
     "name": "stdout",
     "output_type": "stream",
     "text": [
      "100000.0\n",
      "1645293.5664110975\n"
     ]
    }
   ],
   "source": [
    "MVA_MORT, BEL_MORT, BOF_MORT, D_BOF_MORT, SCR_MORT, z = Mortality_Case(z, base_BOF, N, F0, sigma_equity, sigma_property, dt, m_MC, EQ_weight, PR_weight, lapse_rate, rd_rate, comm, cst_cost, inflation_rate)"
   ]
  },
  {
   "cell_type": "code",
   "execution_count": null,
   "metadata": {},
   "outputs": [
    {
     "data": {
      "text/plain": [
       "510.2229941371"
      ]
     },
     "execution_count": 2554,
     "metadata": {},
     "output_type": "execute_result"
    }
   ],
   "source": [
    "SCR_MORT"
   ]
  },
  {
   "cell_type": "code",
   "execution_count": null,
   "metadata": {},
   "outputs": [
    {
     "data": {
      "text/plain": [
       "array([[-0.937688  , -0.13325063,  0.56075113,  1.09183558],\n",
       "       [-1.11903364,  0.52796562, -0.38856872, -1.10669069],\n",
       "       [-0.54131701, -0.26502916, -0.40202849,  1.00118017],\n",
       "       [ 1.06701496, -0.43967802,  1.03749531,  1.40226271]])"
      ]
     },
     "execution_count": 2555,
     "metadata": {},
     "output_type": "execute_result"
    }
   ],
   "source": [
    "z[:4, :4]"
   ]
  },
  {
   "cell_type": "markdown",
   "metadata": {},
   "source": [
    "### Lapse :"
   ]
  },
  {
   "cell_type": "markdown",
   "metadata": {},
   "source": [
    "#### Lapse up :"
   ]
  },
  {
   "cell_type": "code",
   "execution_count": null,
   "metadata": {},
   "outputs": [],
   "source": [
    "def Lapse_up_Case(z, base_BOF, N, F0, sigma_equity, sigma_property, dt, m_MC, EQ_weight, PR_weight, rd_rate, COMM, cst_cost, inflation_rate):\n",
    "    lapse_rate_up = 0.225  # Annual lapse rate in up shock scenario\n",
    "    \"\"\"\n",
    "    Expenses :\n",
    "    \"\"\"\n",
    "    # Generate the 50€ vector following the inflation :\n",
    "    Expenses = np.zeros(N)\n",
    "    Expenses[1:] = [cst_cost * (1 + inflation_rate) ** i for i in range(1,N)]\n",
    "    \n",
    "    \"\"\"\n",
    "    RFR :\n",
    "    \"\"\"\n",
    "    # Read Excel file\n",
    "    df = pd.read_excel('EIOPA_RFR_20240331_Term_Structures.xlsx', \"RFR_spot_no_VA\", usecols=\"C\", )\n",
    "    df = df[9:]\n",
    "    df = df.rename(columns={'Unnamed: 18': 'EIOPA EU without VA, MAR'})\n",
    "    rt = np.array(df).T\n",
    "    rt = np.array(rt, np.float64)\n",
    "    rt = rt[0, :N] # Time-varying risk-free rate\n",
    "\n",
    "    \"\"\"\n",
    "    Simulation of the fund :\n",
    "    \"\"\"\n",
    "    # Simulate equity and property paths\n",
    "    EQt = simulate_gbm_vec(F0, rt, sigma_equity, dt, N, z)\n",
    "    PRt = simulate_gbm_vec(F0, rt, sigma_property, dt, N, z)\n",
    "    # Calculate the fund value at each time step\n",
    "    fund_value = EQ_weight * EQt + PR_weight * PRt\n",
    "    F = np.squeeze(fund_value)\n",
    "\n",
    "    print(str(np.quantile(F, 0.995)))\n",
    "\n",
    "    \"\"\"\n",
    "    Compute the discount factors :\n",
    "    \"\"\"\n",
    "    EIOPA_yield_curve = pd.DataFrame()\n",
    "    EIOPA_yield_curve['Years'] = np.arange(0, 51, 1)\n",
    "    EIOPA_yield_curve['EIOPA EU without VA, MARCH 2024'] = np.insert(rt, 0, 0)  # EIOPA RFR spot rate no VA, with 0 at year = 0 so that discount = 1\n",
    "    EIOPA_yield_curve['Discount Factors'] = 1 / (1 + EIOPA_yield_curve['EIOPA EU without VA, MARCH 2024']) ** EIOPA_yield_curve['Years']\n",
    "\n",
    "    \"\"\"\n",
    "    Life table :\n",
    "    \"\"\"\n",
    "    df_LT = pd.read_excel(\"LT_M_only.xlsx\", skiprows=[0], index_col=0)\n",
    "    Life_table = pd.DataFrame()\n",
    "    Life_table['Age'] = np.arange(60, 120, 1)\n",
    "    Life_table['Death probability qx'] = np.array(df_LT['Probability of death (per thousand)  qx'][60:120]) / 1000\n",
    "    Life_table['Cumulative survival probability px'] = (1 - Life_table['Death probability qx']).cumprod()\n",
    "    \n",
    "    \"\"\"\n",
    "    Get the needed data :\n",
    "    \"\"\"\n",
    "    px_cumul = Life_table[\"Cumulative survival probability px\"][:50]\n",
    "    discount_factors = EIOPA_yield_curve[\"Discount Factors\"][:-1]\n",
    "    qx = Life_table[\"Death probability qx\"]\n",
    "\n",
    "    \"\"\"\n",
    "    Compute the BEL :\n",
    "    \"\"\"\n",
    "    MC_liab = LQ1.MC_lapse_liabilities_VaR(m_MC, F, discount_factors, px_cumul, lapse_rate_up, rd_rate)\n",
    "    d_MC_liab = DQ1.MC_death_liabilities_VaR(m_MC, F, discount_factors, px_cumul, lapse_rate_up, rd_rate, qx)\n",
    "    L_n_D_COMM_liab = CQ1.L_and_D_COMM_Liabilities_VaR(m_MC, COMM, N, lapse_rate_up, px_cumul, discount_factors, qx, F)\n",
    "    Exp_liab = EQ1.Expenses_liabilities(Expenses, discount_factors, lapse_rate_up, px_cumul, N).sum()\n",
    "    Exp_liab = np.full_like(MC_liab, Exp_liab)\n",
    "\n",
    "    \"\"\"\n",
    "    Compute the total liabilities :\n",
    "    \"\"\"\n",
    "    BEL = MC_liab + d_MC_liab + L_n_D_COMM_liab + Exp_liab\n",
    "\n",
    "    \"\"\"\n",
    "    Compute the BOF under IR up stress :\n",
    "    \"\"\"\n",
    "    MVA = F[0][0]\n",
    "    BOF = MVA - BEL\n",
    "\n",
    "    \"\"\"\n",
    "    Compute the Delta_BOF under IR up stress :\n",
    "    \"\"\"\n",
    "    D_BOF = base_BOF - BOF\n",
    "\n",
    "    \"\"\"\n",
    "    Compute the SCR under IR up stress using VaR(99.5%) :\n",
    "    \"\"\"\n",
    "    SCR = np.maximum(0, D_BOF)\n",
    "    SCR = np.quantile(SCR, 0.995) # VaR at 99.5%\n",
    "    return MVA, BEL, BOF, D_BOF, SCR, z"
   ]
  },
  {
   "cell_type": "code",
   "execution_count": null,
   "metadata": {},
   "outputs": [
    {
     "name": "stdout",
     "output_type": "stream",
     "text": [
      "1645293.5664110975\n"
     ]
    }
   ],
   "source": [
    "MVA_L_UP, BEL_L_UP, BOF_L_UP, D_BOF_L_UP, SCR_L_UP, z = Lapse_up_Case(z, base_BOF, N, F0, sigma_equity, sigma_property, dt, m_MC, EQ_weight, PR_weight, rd_rate, comm, cst_cost, inflation_rate)"
   ]
  },
  {
   "cell_type": "code",
   "execution_count": null,
   "metadata": {},
   "outputs": [
    {
     "data": {
      "text/plain": [
       "11403.99771764385"
      ]
     },
     "execution_count": 2558,
     "metadata": {},
     "output_type": "execute_result"
    }
   ],
   "source": [
    "SCR_L_UP"
   ]
  },
  {
   "cell_type": "code",
   "execution_count": null,
   "metadata": {},
   "outputs": [
    {
     "data": {
      "text/plain": [
       "array([[-0.937688  , -0.13325063,  0.56075113,  1.09183558],\n",
       "       [-1.11903364,  0.52796562, -0.38856872, -1.10669069],\n",
       "       [-0.54131701, -0.26502916, -0.40202849,  1.00118017],\n",
       "       [ 1.06701496, -0.43967802,  1.03749531,  1.40226271]])"
      ]
     },
     "execution_count": 2559,
     "metadata": {},
     "output_type": "execute_result"
    }
   ],
   "source": [
    "z[:4, :4]"
   ]
  },
  {
   "cell_type": "markdown",
   "metadata": {},
   "source": [
    "#### Lapse down :"
   ]
  },
  {
   "cell_type": "code",
   "execution_count": null,
   "metadata": {},
   "outputs": [],
   "source": [
    "def Lapse_dw_Case(z, base_BOF, N, F0, sigma_equity, sigma_property, dt, m_MC, EQ_weight, PR_weight, rd_rate, COMM, cst_cost, inflation_rate):\n",
    "    lapse_rate_dw = 0.075  # Annual lapse rate in up shock scenario\n",
    "    \"\"\"\n",
    "    Expenses :\n",
    "    \"\"\"\n",
    "    # Generate the 50€ vector following the inflation :\n",
    "    Expenses = np.zeros(N)\n",
    "    Expenses[1:] = [cst_cost * (1 + inflation_rate) ** i for i in range(1,N)]\n",
    "    \n",
    "    \"\"\"\n",
    "    RFR :\n",
    "    \"\"\"\n",
    "    # Read Excel file\n",
    "    df = pd.read_excel('EIOPA_RFR_20240331_Term_Structures.xlsx', \"RFR_spot_no_VA\", usecols=\"C\", )\n",
    "    df = df[9:]\n",
    "    df = df.rename(columns={'Unnamed: 18': 'EIOPA EU without VA, MAR'})\n",
    "    rt = np.array(df).T\n",
    "    rt = np.array(rt, np.float64)\n",
    "    rt = rt[0, :N] # Time-varying risk-free rate\n",
    "\n",
    "    \"\"\"\n",
    "    Simulation of the fund :\n",
    "    \"\"\"\n",
    "    # Simulate equity and property paths\n",
    "    EQt = simulate_gbm_vec(F0, rt, sigma_equity, dt, N, z)\n",
    "    PRt = simulate_gbm_vec(F0, rt, sigma_property, dt, N, z)\n",
    "    # Calculate the fund value at each time step\n",
    "    fund_value = EQ_weight * EQt + PR_weight * PRt\n",
    "    F = np.squeeze(fund_value)\n",
    "\n",
    "    print(str(np.quantile(F, 0.995)))\n",
    "\n",
    "    \"\"\"\n",
    "    Compute the discount factors :\n",
    "    \"\"\"\n",
    "    EIOPA_yield_curve = pd.DataFrame()\n",
    "    EIOPA_yield_curve['Years'] = np.arange(0, 51, 1)\n",
    "    EIOPA_yield_curve['EIOPA EU without VA, MARCH 2024'] = np.insert(rt, 0, 0)  # EIOPA RFR spot rate no VA, with 0 at year = 0 so that discount = 1\n",
    "    EIOPA_yield_curve['Discount Factors'] = 1 / (1 + EIOPA_yield_curve['EIOPA EU without VA, MARCH 2024']) ** EIOPA_yield_curve['Years']\n",
    "\n",
    "    \"\"\"\n",
    "    Life table :\n",
    "    \"\"\"\n",
    "    df_LT = pd.read_excel(\"LT_M_only.xlsx\", skiprows=[0], index_col=0)\n",
    "    Life_table = pd.DataFrame()\n",
    "    Life_table['Age'] = np.arange(60, 120, 1)\n",
    "    Life_table['Death probability qx'] = np.array(df_LT['Probability of death (per thousand)  qx'][60:120]) / 1000\n",
    "    Life_table['Cumulative survival probability px'] = (1 - Life_table['Death probability qx']).cumprod()\n",
    "    \n",
    "    \"\"\"\n",
    "    Get the needed data :\n",
    "    \"\"\"\n",
    "    px_cumul = Life_table[\"Cumulative survival probability px\"][:50]\n",
    "    discount_factors = EIOPA_yield_curve[\"Discount Factors\"][:-1]\n",
    "    qx = Life_table[\"Death probability qx\"]\n",
    "\n",
    "    \"\"\"\n",
    "    Compute the BEL :\n",
    "    \"\"\"\n",
    "    MC_liab = LQ1.MC_lapse_liabilities_VaR(m_MC, F, discount_factors, px_cumul, lapse_rate_dw, rd_rate)\n",
    "    lapse_rate_dw = 0.15\n",
    "    d_MC_liab = DQ1.MC_death_liabilities_VaR(m_MC, F, discount_factors, px_cumul, lapse_rate_dw, rd_rate, qx)\n",
    "    L_n_D_COMM_liab = CQ1.L_and_D_COMM_Liabilities_VaR(m_MC, COMM, N, lapse_rate_dw, px_cumul, discount_factors, qx, F)\n",
    "    Exp_liab = EQ1.Expenses_liabilities(Expenses, discount_factors, lapse_rate_dw, px_cumul, N).sum()\n",
    "    Exp_liab = np.full_like(MC_liab, Exp_liab)\n",
    "\n",
    "    \"\"\"\n",
    "    Compute the total liabilities :\n",
    "    \"\"\"\n",
    "    BEL = MC_liab + d_MC_liab + L_n_D_COMM_liab + Exp_liab\n",
    "    \n",
    "    \"\"\"\n",
    "    Compute the BOF under IR up stress :\n",
    "    \"\"\"\n",
    "    MVA = F[0][0]\n",
    "    BOF = MVA - BEL\n",
    "\n",
    "    \"\"\"\n",
    "    Compute the Delta_BOF under IR up stress :\n",
    "    \"\"\"\n",
    "    D_BOF = base_BOF - BOF\n",
    "\n",
    "    \"\"\"\n",
    "    Compute the SCR under IR up stress using VaR(99.5%) :\n",
    "    \"\"\"\n",
    "    SCR = np.maximum(0, D_BOF)\n",
    "    SCR = np.quantile(SCR, 0.995) # VaR at 99.5%\n",
    "    return MVA, BEL, BOF, D_BOF, SCR, z"
   ]
  },
  {
   "cell_type": "code",
   "execution_count": null,
   "metadata": {},
   "outputs": [
    {
     "name": "stdout",
     "output_type": "stream",
     "text": [
      "1645293.5664110975\n"
     ]
    }
   ],
   "source": [
    "MVA_L_DW, BEL_L_DW, BOF_L_DW, D_BOF_L_DW, SCR_L_DW, z = Lapse_dw_Case(z, base_BOF, N, F0, sigma_equity, sigma_property, dt, m_MC, EQ_weight, PR_weight, rd_rate, comm, cst_cost, inflation_rate)"
   ]
  },
  {
   "cell_type": "code",
   "execution_count": null,
   "metadata": {},
   "outputs": [
    {
     "data": {
      "text/plain": [
       "17547.610056112768"
      ]
     },
     "execution_count": 2562,
     "metadata": {},
     "output_type": "execute_result"
    }
   ],
   "source": [
    "SCR_L_DW # PROBLEME !"
   ]
  },
  {
   "cell_type": "code",
   "execution_count": null,
   "metadata": {},
   "outputs": [
    {
     "data": {
      "text/plain": [
       "array([[-0.937688  , -0.13325063,  0.56075113,  1.09183558],\n",
       "       [-1.11903364,  0.52796562, -0.38856872, -1.10669069],\n",
       "       [-0.54131701, -0.26502916, -0.40202849,  1.00118017],\n",
       "       [ 1.06701496, -0.43967802,  1.03749531,  1.40226271]])"
      ]
     },
     "execution_count": 2563,
     "metadata": {},
     "output_type": "execute_result"
    }
   ],
   "source": [
    "z[:4, :4]"
   ]
  },
  {
   "cell_type": "markdown",
   "metadata": {},
   "source": [
    "#### Lapse MASS :"
   ]
  },
  {
   "cell_type": "code",
   "execution_count": null,
   "metadata": {},
   "outputs": [],
   "source": [
    "import numpy as np\n",
    "import DeathQ1 as DQ1\n",
    "import COMMQ1 as CQ1\n",
    "import LapseQ1 as LQ1\n",
    "\n",
    "def lapse_proba(px_cumul, lapse_rate, lapse_MASS):\n",
    "    \"\"\"\n",
    "    Calculate the lapse probability for each period based on the cumulative survival probability and lapse rate.\n",
    "\n",
    "    Parameters:\n",
    "    px_cumul (array-like): Array of cumulative survival probabilities.\n",
    "    lapse_rate (float): Lapse rate for the insurance policy.\n",
    "\n",
    "    Returns:\n",
    "    array-like: Array of lapse probabilities for each period.\n",
    "    \"\"\"\n",
    "    # lapse_p = np.array([px_cumul[i - 1] * (1 - lapse_rate) ** i * lapse_rate for i in range(len(px_cumul))])\n",
    "    lapse_p = np.zeros(px_cumul.shape)\n",
    "\n",
    "    for i in range(1, len(px_cumul)):\n",
    "        lapse_p[i] = px_cumul[i - 1] * (1 - lapse_rate) ** (i - 1) * lapse_rate\n",
    "    return lapse_p * (1 - lapse_MASS) * (1 / (1 - lapse_rate)) * lapse_rate\n",
    "\n",
    "def death_proba(px_cumul, lapse_rate, qx, lapse_MASS):\n",
    "    \"\"\"\n",
    "    \"\"\"\n",
    "    death_p = np.zeros(px_cumul.shape)\n",
    "    for k in range(1, len(px_cumul)):\n",
    "        if k == 1:\n",
    "            death_p[k] = 1 * (1 - lapse_rate) ** (k - 1) * qx[k - 1]\n",
    "        else:\n",
    "            death_p[k] = px_cumul[k - 2] * (1 - lapse_rate) ** (k - 1) * qx[k - 1]\n",
    "    return death_p * (1 - lapse_MASS) * (1 / (1 - lapse_rate))\n",
    "\n",
    "def lapse_what_do_you_get(Ft, discount_factors):\n",
    "    \"\"\"\n",
    "    Calculate the discounted (present) value of future cash flows based on the discount factors and what you get when you lapse.\n",
    "\n",
    "    Parameters:\n",
    "    Ft (array-like): Array of future cash flows.\n",
    "    discount_factors (array-like): Array of discount factors.\n",
    "\n",
    "    Returns:\n",
    "    array-like: Array of present values of future cash flows.\n",
    "    \"\"\"\n",
    "    DPV = (Ft - 20) * discount_factors\n",
    "    DPV[0] = 0\n",
    "    return DPV\n",
    "\n",
    "def MASS_lapse_liabilities(RD, lapse_proba, lapse_what_do_you_get):\n",
    "    \"\"\"\n",
    "    Calculate the lapse liabilities i.e. the net present value of future cash flows that will be paid to the policyholders who lapse.\n",
    "    i.e. the expected value of the discounted cash flows that will be paid to the policyholders who lapse.\n",
    "\n",
    "    Returns:\n",
    "    array-like: Array of lapse liabilities.\n",
    "    \"\"\"\n",
    "    return (1 - RD) * lapse_proba * lapse_what_do_you_get\n",
    "\n",
    "def MASS_LL_VaR(m_MC, F, discount_factors, px_cumul, lapse_rate, rd_rate, lapse_MASS):\n",
    "    # Calculate lapse probabilities\n",
    "    lapse_p = lapse_proba(px_cumul, lapse_rate, lapse_MASS)\n",
    "    lapse_array = np.zeros(m_MC)\n",
    "    for m in range(m_MC):\n",
    "        # Calculate what you get when you lapse\n",
    "        lapse_what_you_get = lapse_what_do_you_get(F[m], discount_factors)\n",
    "        # Calculate lapse liabilities\n",
    "        lapse_liab = LQ1.lapse_liabilities(rd_rate, lapse_p, lapse_what_you_get)\n",
    "        lapse_array[m] = lapse_liab.sum() # Total lapse liabilities for each scenario\n",
    "    return lapse_array\n",
    "\n",
    "def MASS_L_and_D_COMM_L_VaR(m_MC, COMM, N, lapse_rate, px_cumul, discount_factors, qx, F, lapse_MASS):\n",
    "    # Calculate death probabilities\n",
    "    death_p = death_proba(px_cumul, lapse_rate, qx, lapse_MASS)[:N]\n",
    "    # Calculate lapse probabilities\n",
    "    lapse_p = lapse_proba(px_cumul, lapse_rate, lapse_MASS)[:N]\n",
    "    COMM_array = np.zeros(m_MC)\n",
    "    for m in range(m_MC):\n",
    "        # Calculate what you get when you die\n",
    "        death_what_you_get = DQ1.death_what_do_you_get(F[m], discount_factors, 100000)\n",
    "        # Calculate what you get when you lapse\n",
    "        lapse_what_you_get = LQ1.lapse_what_do_you_get(F[m], discount_factors)\n",
    "        # Calculate L and D commission liabilities\n",
    "        L_and_D_COMM_Liab = CQ1.L_and_D_COMM_Liabilities(death_p, lapse_p, death_what_you_get, lapse_what_you_get, COMM)\n",
    "        COMM_array[m] = L_and_D_COMM_Liab[0].sum() + L_and_D_COMM_Liab[1].sum() # Total L and D commission liabilities for each scenario\n",
    "    return COMM_array"
   ]
  },
  {
   "cell_type": "code",
   "execution_count": null,
   "metadata": {},
   "outputs": [],
   "source": [
    "def Lapse_MASS_Case(z, base_BOF, N, F0, sigma_equity, sigma_property, dt, m_MC, EQ_weight, PR_weight, rd_rate, COMM, cst_cost, inflation_rate, lapse_rate):\n",
    "    lapse_rate_mass = 0.4  # Annual lapse rate in up shock scenario\n",
    "    \"\"\"\n",
    "    Expenses :\n",
    "    \"\"\"\n",
    "    # Generate the 50€ vector following the inflation :\n",
    "    Expenses = np.zeros(N)\n",
    "    Expenses[1:] = [cst_cost * (1 + inflation_rate) ** i for i in range(1,N)]\n",
    "    \n",
    "    \"\"\"\n",
    "    RFR :\n",
    "    \"\"\"\n",
    "    # Read Excel file\n",
    "    df = pd.read_excel('EIOPA_RFR_20240331_Term_Structures.xlsx', \"RFR_spot_no_VA\", usecols=\"C\", )\n",
    "    df = df[9:]\n",
    "    df = df.rename(columns={'Unnamed: 18': 'EIOPA EU without VA, MAR'})\n",
    "    rt = np.array(df).T\n",
    "    rt = np.array(rt, np.float64)\n",
    "    rt = rt[0, :N] # Time-varying risk-free rate\n",
    "\n",
    "    \"\"\"\n",
    "    Simulation of the fund :\n",
    "    \"\"\"\n",
    "    # Simulate equity and property paths\n",
    "    EQt = simulate_gbm_vec(F0, rt, sigma_equity, dt, N, z)\n",
    "    PRt = simulate_gbm_vec(F0, rt, sigma_property, dt, N, z)\n",
    "    # Calculate the fund value at each time step\n",
    "    fund_value = EQ_weight * EQt + PR_weight * PRt\n",
    "    F = np.squeeze(fund_value)\n",
    "\n",
    "    print(str(np.quantile(F, 0.995)))\n",
    "\n",
    "    \"\"\"\n",
    "    Compute the discount factors :\n",
    "    \"\"\"\n",
    "    EIOPA_yield_curve = pd.DataFrame()\n",
    "    EIOPA_yield_curve['Years'] = np.arange(0, 51, 1)\n",
    "    EIOPA_yield_curve['EIOPA EU without VA, MARCH 2024'] = np.insert(rt, 0, 0)  # EIOPA RFR spot rate no VA, with 0 at year = 0 so that discount = 1\n",
    "    EIOPA_yield_curve['Discount Factors'] = 1 / (1 + EIOPA_yield_curve['EIOPA EU without VA, MARCH 2024']) ** EIOPA_yield_curve['Years']\n",
    "\n",
    "    \"\"\"\n",
    "    Life table :\n",
    "    \"\"\"\n",
    "    df_LT = pd.read_excel(\"LT_M_only.xlsx\", skiprows=[0], index_col=0)\n",
    "    Life_table = pd.DataFrame()\n",
    "    Life_table['Age'] = np.arange(60, 120, 1)\n",
    "    Life_table['Death probability qx'] = np.array(df_LT['Probability of death (per thousand)  qx'][60:120]) / 1000\n",
    "    Life_table['Cumulative survival probability px'] = (1 - Life_table['Death probability qx']).cumprod()\n",
    "    \n",
    "    \"\"\"\n",
    "    Get the needed data :\n",
    "    \"\"\"\n",
    "    px_cumul = Life_table[\"Cumulative survival probability px\"][:50]\n",
    "    discount_factors = EIOPA_yield_curve[\"Discount Factors\"][:-1]\n",
    "    qx = Life_table[\"Death probability qx\"]\n",
    "\n",
    "    \"\"\"\n",
    "    Compute the BEL :\n",
    "    \"\"\"\n",
    "    MC_liab = MASS_LL_VaR(m_MC, F, discount_factors, px_cumul, lapse_rate, rd_rate, lapse_rate_mass)\n",
    "    d_MC_liab = DQ1.MC_death_liabilities_VaR(m_MC, F, discount_factors, px_cumul, lapse_rate, rd_rate, qx)\n",
    "    L_n_D_COMM_liab = MASS_L_and_D_COMM_L_VaR(m_MC, COMM, N, lapse_rate, px_cumul, discount_factors, qx, F, lapse_rate_mass)\n",
    "    Exp_liab = EQ1.Expenses_liabilities(Expenses, discount_factors, lapse_rate, px_cumul, N).sum()\n",
    "    Exp_liab = np.full_like(MC_liab, Exp_liab)\n",
    "\n",
    "    \"\"\"\n",
    "    Compute the total liabilities :\n",
    "    \"\"\"\n",
    "    BEL = MC_liab + d_MC_liab + L_n_D_COMM_liab + Exp_liab\n",
    "    \n",
    "    \"\"\"\n",
    "    Compute the BOF under IR up stress :\n",
    "    \"\"\"\n",
    "    MVA = F[0][0]\n",
    "    BOF = MVA - BEL\n",
    "\n",
    "    \"\"\"\n",
    "    Compute the Delta_BOF under IR up stress :\n",
    "    \"\"\"\n",
    "    D_BOF = base_BOF - BOF\n",
    "\n",
    "    \"\"\"\n",
    "    Compute the SCR under IR up stress using VaR(99.5%) :\n",
    "    \"\"\"\n",
    "    SCR = np.maximum(0, D_BOF)\n",
    "    SCR = np.quantile(SCR, 0.995) # VaR at 99.5%\n",
    "    return MVA, BEL, BOF, D_BOF, SCR, z"
   ]
  },
  {
   "cell_type": "code",
   "execution_count": null,
   "metadata": {},
   "outputs": [
    {
     "name": "stdout",
     "output_type": "stream",
     "text": [
      "1645293.5664110975\n"
     ]
    }
   ],
   "source": [
    "MVA_MASS, BEL_MASS, BOF_MASS, D_BOF_MASS, SCR_MASS, z = Lapse_MASS_Case(z, base_BOF, N, F0, sigma_equity, sigma_property, dt, m_MC, EQ_weight, PR_weight, rd_rate, comm, cst_cost, inflation_rate, lapse_rate)"
   ]
  },
  {
   "cell_type": "code",
   "execution_count": null,
   "metadata": {},
   "outputs": [
    {
     "data": {
      "text/plain": [
       "0.0"
      ]
     },
     "execution_count": 2567,
     "metadata": {},
     "output_type": "execute_result"
    }
   ],
   "source": [
    "SCR_MASS"
   ]
  },
  {
   "cell_type": "code",
   "execution_count": null,
   "metadata": {},
   "outputs": [
    {
     "data": {
      "text/plain": [
       "array([[-0.937688  , -0.13325063,  0.56075113,  1.09183558],\n",
       "       [-1.11903364,  0.52796562, -0.38856872, -1.10669069],\n",
       "       [-0.54131701, -0.26502916, -0.40202849,  1.00118017],\n",
       "       [ 1.06701496, -0.43967802,  1.03749531,  1.40226271]])"
      ]
     },
     "execution_count": 2568,
     "metadata": {},
     "output_type": "execute_result"
    }
   ],
   "source": [
    "z[:4, :4]"
   ]
  },
  {
   "cell_type": "code",
   "execution_count": null,
   "metadata": {},
   "outputs": [],
   "source": [
    "SCR_LAPSE = max(SCR_MASS, SCR_L_UP, SCR_L_DW)"
   ]
  },
  {
   "cell_type": "markdown",
   "metadata": {},
   "source": [
    "### CAT :"
   ]
  },
  {
   "cell_type": "code",
   "execution_count": null,
   "metadata": {},
   "outputs": [],
   "source": [
    "def CAT_Case(z, base_BOF, N, F0, sigma_equity, sigma_property, dt, m_MC, EQ_weight, PR_weight, lapse_rate, rd_rate, COMM, cst_cost, inflation_rate):\n",
    "    \"\"\"\n",
    "    Expenses :\n",
    "    \"\"\"\n",
    "    # Generate the 50€ vector following the inflation :\n",
    "    Expenses = np.zeros(N)\n",
    "    Expenses[1:] = [cst_cost * (1 + inflation_rate) ** i for i in range(1,N)]\n",
    "    \n",
    "    \"\"\"\n",
    "    RFR :\n",
    "    \"\"\"\n",
    "    # Read Excel file\n",
    "    df = pd.read_excel('EIOPA_RFR_20240331_Term_Structures.xlsx', \"RFR_spot_no_VA\", usecols=\"C\", )\n",
    "    df = df[9:]\n",
    "    df = df.rename(columns={'Unnamed: 18': 'EIOPA EU without VA, MAR'})\n",
    "    rt = np.array(df).T\n",
    "    rt = np.array(rt, np.float64)\n",
    "    rt = rt[0, :N] # Time-varying risk-free rate\n",
    "\n",
    "    \"\"\"\n",
    "    Simulation of the fund :\n",
    "    \"\"\"\n",
    "    #Property :\n",
    "    PRt = simulate_gbm_vec(F0, rt, sigma_property, dt, N, z)\n",
    "    #Equity :\n",
    "    EQt= simulate_gbm_vec(F0, rt, sigma_equity, dt, N, z)\n",
    "    # Calculate the fund value at each time step\n",
    "    fund_value = EQ_weight * EQt + PR_weight * PRt\n",
    "    F = np.squeeze(fund_value)\n",
    "\n",
    "    print(str(np.quantile(F, 0.995)))\n",
    "\n",
    "    \"\"\"\n",
    "    Compute the discount factors :\n",
    "    \"\"\"\n",
    "    EIOPA_yield_curve = pd.DataFrame()\n",
    "    EIOPA_yield_curve['Years'] = np.arange(0, 51, 1)\n",
    "    EIOPA_yield_curve['EIOPA EU without VA, MARCH 2024'] = np.insert(rt, 0, 0)  # EIOPA RFR spot rate no VA, with 0 at year = 0 so that discount = 1\n",
    "    EIOPA_yield_curve['Discount Factors'] = 1 / (1 + EIOPA_yield_curve['EIOPA EU without VA, MARCH 2024']) ** EIOPA_yield_curve['Years']\n",
    "\n",
    "    \"\"\"\n",
    "    Life table :\n",
    "    \"\"\"\n",
    "    death_stress = 0.0015 # 1.5 per mille\n",
    "\n",
    "    df_LT = pd.read_excel(\"LT_M_only.xlsx\", skiprows=[0], index_col=0)\n",
    "    Life_table = pd.DataFrame()\n",
    "    Life_table['Age'] = np.arange(60, 120, 1)\n",
    "    Life_table['Death probability qx'] = np.array(df_LT['Probability of death (per thousand)  qx'][60:120]) / 1000\n",
    "    Life_table['Death probability qx'][0] += death_stress\n",
    "    Life_table['Cumulative survival probability px'] = (1 - Life_table['Death probability qx']).cumprod()\n",
    "\n",
    "    qxx = Life_table['Death probability qx']\n",
    "    pxx = np.zeros(qxx.shape)\n",
    "    pxx[0] = 1 - qxx[0]\n",
    "    for i in range(1, len(pxx)):\n",
    "        pxx[i] = pxx[i - 1] * (1 - qxx[i])\n",
    "    Life_table['Cumulative survival probability px'] = pxx\n",
    "    \n",
    "    \"\"\"\n",
    "    Get the needed data :\n",
    "    \"\"\"\n",
    "    px_cumul = Life_table[\"Cumulative survival probability px\"][:50]\n",
    "    discount_factors = EIOPA_yield_curve[\"Discount Factors\"][:-1]\n",
    "    qx = Life_table[\"Death probability qx\"]\n",
    "\n",
    "    \"\"\"\n",
    "    Compute the BEL :\n",
    "    \"\"\"\n",
    "    MC_liab = LQ1.MC_lapse_liabilities_VaR(m_MC, F, discount_factors, px_cumul, lapse_rate, rd_rate)\n",
    "    d_MC_liab = DQ1.MC_death_liabilities_VaR(m_MC, F, discount_factors, px_cumul, lapse_rate, rd_rate, qx)\n",
    "    L_n_D_COMM_liab = CQ1.L_and_D_COMM_Liabilities_VaR(m_MC, COMM, N, lapse_rate, px_cumul, discount_factors, qx, F)\n",
    "    Exp_liab = EQ1.Expenses_liabilities(Expenses, discount_factors, lapse_rate, px_cumul, N).sum()\n",
    "    Exp_liab = np.full_like(MC_liab, Exp_liab)\n",
    "\n",
    "    \"\"\"\n",
    "    Compute the total liabilities :\n",
    "    \"\"\"\n",
    "    BEL = MC_liab + d_MC_liab + L_n_D_COMM_liab + Exp_liab\n",
    "\n",
    "    \"\"\"\n",
    "    Compute the BOF under IR up stress :\n",
    "    \"\"\"\n",
    "    MVA = F[0][0]\n",
    "    BOF = MVA - BEL\n",
    "\n",
    "    \"\"\"\n",
    "    Compute the Delta_BOF under IR up stress :\n",
    "    \"\"\"\n",
    "    D_BOF = base_BOF - BOF\n",
    "\n",
    "    \"\"\"\n",
    "    Compute the SCR under IR up stress using VaR(99.5%) :\n",
    "    \"\"\"\n",
    "    SCR = np.maximum(0, D_BOF)\n",
    "    SCR = np.quantile(SCR, 0.995) # VaR at 99.5%\n",
    "    return MVA, BEL, BOF, D_BOF, SCR, z"
   ]
  },
  {
   "cell_type": "code",
   "execution_count": null,
   "metadata": {},
   "outputs": [
    {
     "name": "stdout",
     "output_type": "stream",
     "text": [
      "1645293.5664110975\n"
     ]
    },
    {
     "name": "stderr",
     "output_type": "stream",
     "text": [
      "/var/folders/7r/shscmqp1277_1xrsmswqc9q00000gn/T/ipykernel_14628/914259607.py:50: SettingWithCopyWarning: \n",
      "A value is trying to be set on a copy of a slice from a DataFrame\n",
      "\n",
      "See the caveats in the documentation: https://pandas.pydata.org/pandas-docs/stable/user_guide/indexing.html#returning-a-view-versus-a-copy\n",
      "  Life_table['Death probability qx'][0] += death_stress\n"
     ]
    }
   ],
   "source": [
    "MVA_CAT, BEL_CAT, BOF_CAT, D_BOF_CAT, SCR_CAT, z = CAT_Case(z, base_BOF, N, F0, sigma_equity, sigma_property, dt, m_MC, EQ_weight, PR_weight, lapse_rate, rd_rate, comm, cst_cost, inflation_rate)"
   ]
  },
  {
   "cell_type": "code",
   "execution_count": null,
   "metadata": {},
   "outputs": [
    {
     "data": {
      "text/plain": [
       "64.30938903080005"
      ]
     },
     "execution_count": 2572,
     "metadata": {},
     "output_type": "execute_result"
    }
   ],
   "source": [
    "SCR_CAT"
   ]
  },
  {
   "cell_type": "code",
   "execution_count": null,
   "metadata": {},
   "outputs": [
    {
     "data": {
      "text/plain": [
       "array([[-0.937688  , -0.13325063,  0.56075113,  1.09183558],\n",
       "       [-1.11903364,  0.52796562, -0.38856872, -1.10669069],\n",
       "       [-0.54131701, -0.26502916, -0.40202849,  1.00118017],\n",
       "       [ 1.06701496, -0.43967802,  1.03749531,  1.40226271]])"
      ]
     },
     "execution_count": 2573,
     "metadata": {},
     "output_type": "execute_result"
    }
   ],
   "source": [
    "z[:4, :4]"
   ]
  },
  {
   "cell_type": "markdown",
   "metadata": {},
   "source": [
    "### Expenses :"
   ]
  },
  {
   "cell_type": "code",
   "execution_count": null,
   "metadata": {},
   "outputs": [],
   "source": [
    "def EX_Case(z, base_BOF, N, F0, sigma_equity, sigma_property, dt, m_MC, EQ_weight, PR_weight, lapse_rate, rd_rate, COMM, cst_cost, inflation_rate):\n",
    "    \"\"\"\n",
    "    Expenses :\n",
    "    \"\"\"\n",
    "    inflation_stress = 0.01 # 1% is the inflation stress\n",
    "    inflation_rate_up = inflation_rate + inflation_stress # shocked inflation rate\n",
    "    future_expenses_stress = 0.1 # 10% is the future expenses stress\n",
    "    cst_cost_up = cst_cost * (1 + future_expenses_stress) # Constant unitary cost in stressed scenario\n",
    "    # Generate the 50€ vector following the inflation :\n",
    "    Expenses_up = np.zeros(N)\n",
    "    Expenses_up[1:] = [cst_cost_up * (1 + inflation_rate_up) ** i for i in range(1,N)]\n",
    "\n",
    "    \"\"\"\n",
    "    RFR :\n",
    "    \"\"\"\n",
    "    # Read Excel file\n",
    "    df = pd.read_excel('EIOPA_RFR_20240331_Term_Structures.xlsx', \"RFR_spot_no_VA\", usecols=\"C\", )\n",
    "    df = df[9:]\n",
    "    df = df.rename(columns={'Unnamed: 18': 'EIOPA EU without VA, MAR'})\n",
    "    rt = np.array(df).T\n",
    "    rt = np.array(rt, np.float64)\n",
    "    rt = rt[0, :N] # Time-varying risk-free rate\n",
    "\n",
    "    \"\"\"\n",
    "    Simulation of the fund :\n",
    "    \"\"\"\n",
    "    # Simulate equity and property paths\n",
    "    EQt = simulate_gbm_vec(F0, rt, sigma_equity, dt, N, z)\n",
    "    PRt = simulate_gbm_vec(F0, rt, sigma_property, dt, N, z)\n",
    "    # Calculate the fund value at each time step\n",
    "    fund_value = EQ_weight * EQt + PR_weight * PRt\n",
    "    F = np.squeeze(fund_value)\n",
    "\n",
    "    print(str(np.quantile(F, 0.995)))\n",
    "\n",
    "    \"\"\"\n",
    "    Compute the discount factors :\n",
    "    \"\"\"\n",
    "    EIOPA_yield_curve = pd.DataFrame()\n",
    "    EIOPA_yield_curve['Years'] = np.arange(0, 51, 1)\n",
    "    EIOPA_yield_curve['EIOPA EU without VA, MARCH 2024'] = np.insert(rt, 0, 0)  # EIOPA RFR spot rate no VA, with 0 at year = 0 so that discount = 1\n",
    "    EIOPA_yield_curve['Discount Factors'] = 1 / (1 + EIOPA_yield_curve['EIOPA EU without VA, MARCH 2024']) ** EIOPA_yield_curve['Years']\n",
    "\n",
    "    \"\"\"\n",
    "    Life table :\n",
    "    \"\"\"\n",
    "    df_LT = pd.read_excel(\"LT_M_only.xlsx\", skiprows=[0], index_col=0)\n",
    "    Life_table = pd.DataFrame()\n",
    "    Life_table['Age'] = np.arange(60, 120, 1)\n",
    "    Life_table['Death probability qx'] = np.array(df_LT['Probability of death (per thousand)  qx'][60:120]) / 1000\n",
    "    Life_table['Cumulative survival probability px'] = (1 - Life_table['Death probability qx']).cumprod()\n",
    "    \n",
    "    \"\"\"\n",
    "    Get the needed data :\n",
    "    \"\"\"\n",
    "    px_cumul = Life_table[\"Cumulative survival probability px\"][:50]\n",
    "    discount_factors = EIOPA_yield_curve[\"Discount Factors\"][:-1]\n",
    "    qx = Life_table[\"Death probability qx\"]\n",
    "\n",
    "    \"\"\"\n",
    "    Compute the BEL :\n",
    "    \"\"\"\n",
    "    MC_liab = LQ1.MC_lapse_liabilities_VaR(m_MC, F, discount_factors, px_cumul, lapse_rate, rd_rate)\n",
    "    d_MC_liab = DQ1.MC_death_liabilities_VaR(m_MC, F, discount_factors, px_cumul, lapse_rate, rd_rate, qx)\n",
    "    L_n_D_COMM_liab = CQ1.L_and_D_COMM_Liabilities_VaR(m_MC, COMM, N, lapse_rate, px_cumul, discount_factors, qx, F)\n",
    "    Exp_liab = EQ1.Expenses_liabilities(Expenses_up, discount_factors, lapse_rate, px_cumul, N).sum()\n",
    "    Exp_liab = np.full_like(MC_liab, Exp_liab)\n",
    "\n",
    "    \"\"\"\n",
    "    Compute the total liabilities :\n",
    "    \"\"\"\n",
    "    BEL = MC_liab + d_MC_liab + L_n_D_COMM_liab + Exp_liab\n",
    "\n",
    "    \"\"\"\n",
    "    Compute the BOF under IR up stress :\n",
    "    \"\"\"\n",
    "    MVA = F[0][0]\n",
    "    BOF = MVA - BEL\n",
    "\n",
    "    \"\"\"\n",
    "    Compute the Delta_BOF under IR up stress :\n",
    "    \"\"\"\n",
    "    D_BOF = base_BOF - BOF\n",
    "\n",
    "    \"\"\"\n",
    "    Compute the SCR under IR up stress using VaR(99.5%) :\n",
    "    \"\"\"\n",
    "    SCR = np.maximum(0, D_BOF)\n",
    "    SCR = np.quantile(SCR, 0.995) # VaR at 99.5%\n",
    "    return MVA, BEL, BOF, D_BOF, SCR, z"
   ]
  },
  {
   "cell_type": "code",
   "execution_count": null,
   "metadata": {},
   "outputs": [
    {
     "name": "stdout",
     "output_type": "stream",
     "text": [
      "1645293.5664110975\n"
     ]
    }
   ],
   "source": [
    "MVA_EXP, BEL_EXP, BOF_EXP, D_BOF_EXP, SCR_EXP, z = EX_Case(z, base_BOF, N, F0, sigma_equity, sigma_property, dt, m_MC, EQ_weight, PR_weight, lapse_rate, rd_rate, comm, cst_cost, inflation_rate)"
   ]
  },
  {
   "cell_type": "code",
   "execution_count": null,
   "metadata": {},
   "outputs": [
    {
     "data": {
      "text/plain": [
       "49.90406892714964"
      ]
     },
     "execution_count": 2576,
     "metadata": {},
     "output_type": "execute_result"
    }
   ],
   "source": [
    "SCR_EXP"
   ]
  },
  {
   "cell_type": "code",
   "execution_count": null,
   "metadata": {},
   "outputs": [
    {
     "data": {
      "text/plain": [
       "array([[-0.937688  , -0.13325063,  0.56075113,  1.09183558],\n",
       "       [-1.11903364,  0.52796562, -0.38856872, -1.10669069],\n",
       "       [-0.54131701, -0.26502916, -0.40202849,  1.00118017],\n",
       "       [ 1.06701496, -0.43967802,  1.03749531,  1.40226271]])"
      ]
     },
     "execution_count": 2577,
     "metadata": {},
     "output_type": "execute_result"
    }
   ],
   "source": [
    "z[:4, :4]"
   ]
  },
  {
   "cell_type": "markdown",
   "metadata": {},
   "source": [
    "## Summary :"
   ]
  },
  {
   "cell_type": "code",
   "execution_count": null,
   "metadata": {},
   "outputs": [
    {
     "data": {
      "text/plain": [
       "(0.0,\n",
       " 64.30938903080005,\n",
       " 15520.31476668948,\n",
       " 1513.5312324464078,\n",
       " 49.90406892714964,\n",
       " 4494.540020748217,\n",
       " 17547.610056112768)"
      ]
     },
     "execution_count": 2578,
     "metadata": {},
     "output_type": "execute_result"
    }
   ],
   "source": [
    "SCR_base, SCR_CAT, SCR_EQ, SCR_PR, SCR_EXP, SCR_IR, SCR_LAPSE"
   ]
  },
  {
   "cell_type": "code",
   "execution_count": null,
   "metadata": {},
   "outputs": [
    {
     "data": {
      "text/plain": [
       "(4494.540020748217, 154.5013038488313)"
      ]
     },
     "execution_count": 2579,
     "metadata": {},
     "output_type": "execute_result"
    }
   ],
   "source": [
    "SCR_IR_UP, SCR_IR_DW"
   ]
  },
  {
   "cell_type": "markdown",
   "metadata": {},
   "source": [
    "### BSCR :"
   ]
  },
  {
   "cell_type": "code",
   "execution_count": null,
   "metadata": {},
   "outputs": [],
   "source": [
    "MARKET = np.array([[1, 0, 0],\n",
    "                  [0, 1, 0.75],\n",
    "                  [0, 0.75, 1]]) # Since IR_UP > IR_DOWN : 0 inside the matrix \n",
    "LIFE = np.array([[1, 0, 0.25, 0.25],\n",
    "                [0, 1, 0.25, 0.5],\n",
    "                [0.25, 0.25, 1, 0.25],\n",
    "                [0.25, 0.5, 0.25, 1]])\n",
    "LIFE_MARKET = np.array([[1, 0.25],\n",
    "                       [0.25, 1]])"
   ]
  },
  {
   "cell_type": "code",
   "execution_count": null,
   "metadata": {},
   "outputs": [],
   "source": [
    "def SCR_market(SCR_IR, SCR_EQ, SCR_PR, MARKET):\n",
    "    X = np.array([SCR_IR, SCR_EQ, SCR_PR])\n",
    "    SCR_MKT = np.sqrt(np.dot(np.dot(X, MARKET), X.T))\n",
    "    return SCR_MKT"
   ]
  },
  {
   "cell_type": "code",
   "execution_count": null,
   "metadata": {},
   "outputs": [
    {
     "data": {
      "text/plain": [
       "17280.26501393984"
      ]
     },
     "execution_count": 2582,
     "metadata": {},
     "output_type": "execute_result"
    }
   ],
   "source": [
    "SCR_MKT = SCR_market(SCR_IR, SCR_EQ, SCR_PR, MARKET)\n",
    "SCR_MKT"
   ]
  },
  {
   "cell_type": "code",
   "execution_count": null,
   "metadata": {},
   "outputs": [],
   "source": [
    "def SCR_life(SCR_MORT, SCR_LAPSE, SCR_CAT, SCR_EXP, LIFE):\n",
    "    X = np.array([SCR_MORT, SCR_LAPSE, SCR_EXP, SCR_CAT])\n",
    "    SCR_LIFE = np.sqrt(np.dot(np.dot(X, LIFE), X.T))\n",
    "    return SCR_LIFE"
   ]
  },
  {
   "cell_type": "code",
   "execution_count": null,
   "metadata": {},
   "outputs": [
    {
     "data": {
      "text/plain": [
       "17600.6431350567"
      ]
     },
     "execution_count": 2584,
     "metadata": {},
     "output_type": "execute_result"
    }
   ],
   "source": [
    "SCR_LIFE = SCR_life(SCR_MORT, SCR_LAPSE, SCR_CAT, SCR_EXP, LIFE)\n",
    "SCR_LIFE"
   ]
  },
  {
   "cell_type": "code",
   "execution_count": null,
   "metadata": {},
   "outputs": [],
   "source": [
    "def BSCR(SCR_MKT, SCR_LIFE, LIFE_MARKET):\n",
    "    X = np.array([SCR_MKT, SCR_LIFE])\n",
    "    BSCR = np.sqrt(np.dot(np.dot(X, LIFE_MARKET), X.T))\n",
    "    return BSCR"
   ]
  },
  {
   "cell_type": "code",
   "execution_count": null,
   "metadata": {},
   "outputs": [
    {
     "data": {
      "text/plain": [
       "27576.47705227033"
      ]
     },
     "execution_count": 2586,
     "metadata": {},
     "output_type": "execute_result"
    }
   ],
   "source": [
    "BSCR = BSCR(SCR_MKT, SCR_LIFE, LIFE_MARKET)\n",
    "BSCR"
   ]
  },
  {
   "cell_type": "code",
   "execution_count": null,
   "metadata": {},
   "outputs": [
    {
     "data": {
      "text/plain": [
       "array([[ 1.00000000e+05,  9.60361848e+04,  3.96381517e+03,\n",
       "         0.00000000e+00,  0.00000000e+00],\n",
       "       [ 1.00000000e+05,  9.71942414e+04,  2.80575859e+03,\n",
       "         1.15805658e+03,  4.49454002e+03],\n",
       "       [ 1.00000000e+05,  9.49626729e+04,  5.03732708e+03,\n",
       "        -1.07351191e+03,  1.54501304e+02],\n",
       "       [ 1.00000000e+05,  9.61231072e+04,  3.87689281e+03,\n",
       "         8.69223656e+01,  5.10222994e+02],\n",
       "       [ 1.00000000e+05,  9.60389098e+04,  3.96109020e+03,\n",
       "         2.72497089e+00,  1.14039977e+04],\n",
       "       [ 1.00000000e+05,  8.25180160e+04,  1.74819840e+04,\n",
       "        -1.35181688e+04,  1.75476101e+04],\n",
       "       [ 1.00000000e+05,  1.78741486e+04,  8.21258514e+04,\n",
       "        -7.81620362e+04,  0.00000000e+00],\n",
       "       [ 1.00000000e+05,  9.60485721e+04,  3.95142795e+03,\n",
       "         1.23872257e+01,  6.43093890e+01],\n",
       "       [ 1.00000000e+05,  9.60860889e+04,  3.91391110e+03,\n",
       "         4.99040689e+01,  4.99040689e+01],\n",
       "       [ 6.88000000e+04,  6.62907321e+04,  2.50926790e+03,\n",
       "         1.45454727e+03,  1.55203148e+04],\n",
       "       [ 9.50000000e+04,  9.11667277e+04,  3.83327234e+03,\n",
       "         1.30542834e+02,  1.51353123e+03]])"
      ]
     },
     "execution_count": 2587,
     "metadata": {},
     "output_type": "execute_result"
    }
   ],
   "source": [
    "results = np.array([[MVA_base, BEL_base.mean(), base_BOF.mean(), D_BOF_base.mean(), SCR_base],\n",
    "                    [MVA_IR_UP, BEL_IR_UP.mean(), BOF_IR_UP.mean(), D_BOF_IR_UP.mean(), SCR_IR_UP],\n",
    "                    [MVA_IR_DW, BEL_IR_DW.mean(), BOF_IR_DW.mean(), D_BOF_IR_DW.mean(), SCR_IR_DW],\n",
    "                    [MVA_MORT, BEL_MORT.mean(), BOF_MORT.mean(), D_BOF_MORT.mean(), SCR_MORT],\n",
    "                    [MVA_L_UP, BEL_L_UP.mean(), BOF_L_UP.mean(), D_BOF_L_UP.mean(), SCR_L_UP],\n",
    "                    [MVA_L_DW, BEL_L_DW.mean(), BOF_L_DW.mean(), D_BOF_L_DW.mean(), SCR_L_DW],\n",
    "                    [MVA_MASS, BEL_MASS.mean(), BOF_MASS.mean(), D_BOF_MASS.mean(), SCR_MASS],\n",
    "                    [MVA_CAT, BEL_CAT.mean(), BOF_CAT.mean(), D_BOF_CAT.mean(), SCR_CAT],\n",
    "                    [MVA_EXP, BEL_EXP.mean(), BOF_EXP.mean(), D_BOF_EXP.mean(), SCR_EXP],\n",
    "                    [MVA_EQ, BEL_EQ.mean(), BOF_EQ.mean(), D_BOF_EQ.mean(), SCR_EQ],\n",
    "                    [MVA_PR, BEL_PR.mean(), BOF_PR.mean(), D_BOF_PR.mean(), SCR_PR]])\n",
    "results"
   ]
  },
  {
   "cell_type": "code",
   "execution_count": null,
   "metadata": {},
   "outputs": [
    {
     "data": {
      "text/html": [
       "<div>\n",
       "<style scoped>\n",
       "    .dataframe tbody tr th:only-of-type {\n",
       "        vertical-align: middle;\n",
       "    }\n",
       "\n",
       "    .dataframe tbody tr th {\n",
       "        vertical-align: top;\n",
       "    }\n",
       "\n",
       "    .dataframe thead th {\n",
       "        text-align: right;\n",
       "    }\n",
       "</style>\n",
       "<table border=\"1\" class=\"dataframe\">\n",
       "  <thead>\n",
       "    <tr style=\"text-align: right;\">\n",
       "      <th></th>\n",
       "      <th>0</th>\n",
       "      <th>1</th>\n",
       "      <th>2</th>\n",
       "      <th>3</th>\n",
       "      <th>4</th>\n",
       "    </tr>\n",
       "  </thead>\n",
       "  <tbody>\n",
       "    <tr>\n",
       "      <th>0</th>\n",
       "      <td>100000.0</td>\n",
       "      <td>96036.184828</td>\n",
       "      <td>3963.815172</td>\n",
       "      <td>0.000000</td>\n",
       "      <td>0.000000</td>\n",
       "    </tr>\n",
       "    <tr>\n",
       "      <th>1</th>\n",
       "      <td>100000.0</td>\n",
       "      <td>97194.241410</td>\n",
       "      <td>2805.758590</td>\n",
       "      <td>1158.056582</td>\n",
       "      <td>4494.540021</td>\n",
       "    </tr>\n",
       "    <tr>\n",
       "      <th>2</th>\n",
       "      <td>100000.0</td>\n",
       "      <td>94962.672915</td>\n",
       "      <td>5037.327085</td>\n",
       "      <td>-1073.511912</td>\n",
       "      <td>154.501304</td>\n",
       "    </tr>\n",
       "    <tr>\n",
       "      <th>3</th>\n",
       "      <td>100000.0</td>\n",
       "      <td>96123.107193</td>\n",
       "      <td>3876.892807</td>\n",
       "      <td>86.922366</td>\n",
       "      <td>510.222994</td>\n",
       "    </tr>\n",
       "    <tr>\n",
       "      <th>4</th>\n",
       "      <td>100000.0</td>\n",
       "      <td>96038.909798</td>\n",
       "      <td>3961.090202</td>\n",
       "      <td>2.724971</td>\n",
       "      <td>11403.997718</td>\n",
       "    </tr>\n",
       "    <tr>\n",
       "      <th>5</th>\n",
       "      <td>100000.0</td>\n",
       "      <td>82518.016019</td>\n",
       "      <td>17481.983981</td>\n",
       "      <td>-13518.168809</td>\n",
       "      <td>17547.610056</td>\n",
       "    </tr>\n",
       "    <tr>\n",
       "      <th>6</th>\n",
       "      <td>100000.0</td>\n",
       "      <td>17874.148601</td>\n",
       "      <td>82125.851399</td>\n",
       "      <td>-78162.036227</td>\n",
       "      <td>0.000000</td>\n",
       "    </tr>\n",
       "    <tr>\n",
       "      <th>7</th>\n",
       "      <td>100000.0</td>\n",
       "      <td>96048.572053</td>\n",
       "      <td>3951.427947</td>\n",
       "      <td>12.387226</td>\n",
       "      <td>64.309389</td>\n",
       "    </tr>\n",
       "    <tr>\n",
       "      <th>8</th>\n",
       "      <td>100000.0</td>\n",
       "      <td>96086.088897</td>\n",
       "      <td>3913.911103</td>\n",
       "      <td>49.904069</td>\n",
       "      <td>49.904069</td>\n",
       "    </tr>\n",
       "    <tr>\n",
       "      <th>9</th>\n",
       "      <td>68800.0</td>\n",
       "      <td>66290.732098</td>\n",
       "      <td>2509.267902</td>\n",
       "      <td>1454.547271</td>\n",
       "      <td>15520.314767</td>\n",
       "    </tr>\n",
       "    <tr>\n",
       "      <th>10</th>\n",
       "      <td>95000.0</td>\n",
       "      <td>91166.727661</td>\n",
       "      <td>3833.272339</td>\n",
       "      <td>130.542834</td>\n",
       "      <td>1513.531232</td>\n",
       "    </tr>\n",
       "  </tbody>\n",
       "</table>\n",
       "</div>"
      ],
      "text/plain": [
       "           0             1             2             3             4\n",
       "0   100000.0  96036.184828   3963.815172      0.000000      0.000000\n",
       "1   100000.0  97194.241410   2805.758590   1158.056582   4494.540021\n",
       "2   100000.0  94962.672915   5037.327085  -1073.511912    154.501304\n",
       "3   100000.0  96123.107193   3876.892807     86.922366    510.222994\n",
       "4   100000.0  96038.909798   3961.090202      2.724971  11403.997718\n",
       "5   100000.0  82518.016019  17481.983981 -13518.168809  17547.610056\n",
       "6   100000.0  17874.148601  82125.851399 -78162.036227      0.000000\n",
       "7   100000.0  96048.572053   3951.427947     12.387226     64.309389\n",
       "8   100000.0  96086.088897   3913.911103     49.904069     49.904069\n",
       "9    68800.0  66290.732098   2509.267902   1454.547271  15520.314767\n",
       "10   95000.0  91166.727661   3833.272339    130.542834   1513.531232"
      ]
     },
     "execution_count": 2588,
     "metadata": {},
     "output_type": "execute_result"
    }
   ],
   "source": [
    "results_df = pd.DataFrame(results)\n",
    "results_df.to_excel('output.xlsx', index=False)  # Set index=False if you don't want to include row numbers in the output\n",
    "results_df"
   ]
  },
  {
   "cell_type": "code",
   "execution_count": null,
   "metadata": {},
   "outputs": [
    {
     "name": "stdout",
     "output_type": "stream",
     "text": [
      "(50, 100)(50, 100)\n"
     ]
    },
    {
     "data": {
      "image/png": "[encoded data removed]",
      "text/plain": [
       "<Figure size 640x480 with 1 Axes>"
      ]
     },
     "metadata": {},
     "output_type": "display_data"
    }
   ],
   "source": [
    "# Read Excel file\n",
    "df = pd.read_excel('EIOPA_RFR_20240331_Term_Structures.xlsx', \"RFR_spot_no_VA\", usecols=\"C\", )\n",
    "df = df[9:]\n",
    "df = df.rename(columns={'Unnamed: 18': 'EIOPA EU without VA, MAR'})\n",
    "rt = np.array(df).T\n",
    "rt = np.array(rt, np.float64)\n",
    "rt = rt[0, :N] # Time-varying risk-free rate\n",
    "# Simulate equity and property paths\n",
    "EQt = simulate_gbm_vec(F0, rt, sigma_equity, dt, N, z)\n",
    "PRt = simulate_gbm_vec(F0, rt, sigma_property, dt, N, z)\n",
    "# Calculate the fund value at each time step\n",
    "fund_value = EQ_weight * EQt + PR_weight * PRt\n",
    "F = np.squeeze(fund_value)\n",
    "\n",
    "# Define time interval correctly\n",
    "time = np.linspace(0,T,N)\n",
    "# Require numpy array that is the same shape as F\n",
    "tt = np.full(shape=(m_MC,N), fill_value=time).T\n",
    "# Check that the dimensions are OK for the plot\n",
    "print(str(tt.shape) + str(fund_value.T.shape))\n",
    "\n",
    "plt.plot(tt, fund_value.T);\n",
    "plt.xlabel(\"Years $(t)$\")\n",
    "plt.ylabel(\"Portfolio Value $(F_t)$\")\n",
    "plt.title(\"Portfolio value (€) VS time (year)\\n $F_t = EQ_t + PR_t$, $F_0 = 100000€$\")\n",
    "plt.show()"
   ]
  }
 ],
 "metadata": {
  "kernelspec": {
   "display_name": "VEnvTestPython_3_8_13",
   "language": "python",
   "name": "python3"
  },
  "language_info": {
   "codemirror_mode": {
    "name": "ipython",
    "version": 3
   },
   "file_extension": ".py",
   "mimetype": "text/x-python",
   "name": "python",
   "nbconvert_exporter": "python",
   "pygments_lexer": "ipython3",
   "version": "3.8.13"
  }
 },
 "nbformat": 4,
 "nbformat_minor": 2
}
